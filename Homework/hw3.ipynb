{
 "cells": [
  {
   "cell_type": "markdown",
   "id": "7b4bee3a",
   "metadata": {
    "tags": [
     "header"
    ]
   },
   "source": [
    "# STA 220 Assignment 3\n",
    "\n",
    "Due __Februrary 23, 2024__ by __11:59pm__. Submit your work by uploading it to Gradescope through Canvas.\n",
    "\n",
    "Instructions:\n",
    "\n",
    "1. Provide your solutions in new cells following each exercise description. Create as many new cells as necessary. Use code cells for your Python scripts and Markdown cells for explanatory text or answers to non-coding questions. Answer all textual questions in complete sentences.\n",
    "2. The use of assistive tools is permitted, but must be indicated. You will be graded on you proficiency in coding. Produce high quality code by adhering to proper programming principles. \n",
    "3. Export the .jpynb as .pdf and submit it on Gradescope in time. To facilitate grading, indicate the area of the solution on the submission. Submissions without indication will be marked down. No late submissions accepted. \n",
    "4. If test cases are given, your solution must be in the same format. \n",
    "5. The total number of points is 10. "
   ]
  },
  {
   "cell_type": "markdown",
   "id": "17c77449",
   "metadata": {
    "tags": [
     "exercise"
    ]
   },
   "source": [
    "__(a, i)__ Write a function that retrieves all links to movies in the database by scraping the _alphabetical_ section on [imsdb.com](https://imsdb.com/) and retrieve the links. _How many links did you find?_ __(ii)__ Write a function `fetch_script` that, given the link of a movie retrieved in (i), returns a dictionary that contains all relevant information of the movie: \n",
    "\n",
    "```python\n",
    "fetch_script('/Movie Scripts/10 Things I Hate About You Script.html')\n",
    "\n",
    ">>> {'title': '10 Things I Hate About You',\n",
    "     'writers': ['Karen McCullah Lutz', 'Kirsten Smith', 'William Shakespeare'],\n",
    "     'genres': ['Comedy', 'Romance'],\n",
    "     'date': 1997,\n",
    "     'script': '...'}\n",
    "```\n",
    "\n",
    "The `script` field contains a string of the scraped script. Retrieve the information for all movies. _How many scripts did you retrieve?_"
   ]
  },
  {
   "cell_type": "code",
   "execution_count": 5,
   "id": "32060c8e",
   "metadata": {},
   "outputs": [],
   "source": [
    "from bs4 import BeautifulSoup\n",
    "import requests\n",
    "import re\n",
    "import pickle"
   ]
  },
  {
   "cell_type": "code",
   "execution_count": 2,
   "id": "025bd32f",
   "metadata": {},
   "outputs": [],
   "source": [
    "list_genre = str.split(\"Action Adventure Animation Comedy Crime Drama Family Fantasy Film-Noir Horror Musical Mystery Romance Sci-Fi Short Thriller War Western\")\n",
    "url = \"https://imsdb.com/\"\n",
    "\n",
    "def movie_url_extraction(url):\n",
    "    movie_title_url_list = []\n",
    "    url_list = []\n",
    "    response = requests.get(url)\n",
    "    bs = BeautifulSoup(response.text)\n",
    "    html_url_list = bs.body.contents[5].find('td').findAll('td')[3:30]\n",
    "    for i in range(len(html_url_list)):\n",
    "        url_list.append(url + html_url_list[i].a['href'])\n",
    "    for i in range(len(url_list)):\n",
    "        url_1 = url_list[i]\n",
    "        response = requests.get(url_1).text\n",
    "        bs = BeautifulSoup(response)\n",
    "        script_url = bs.findAll('table')[1].findAll('td', {'valign':'top'})[1].findAll('p')\n",
    "        for i in range(len(script_url)):\n",
    "            tuple = (script_url[i].find('a').text, url + script_url[i].find('a')['href'])\n",
    "            movie_title_url_list.append(tuple)\n",
    "    return movie_title_url_list    "
   ]
  },
  {
   "cell_type": "code",
   "execution_count": 3,
   "id": "1431180c",
   "metadata": {},
   "outputs": [
    {
     "data": {
      "text/plain": [
       "1221"
      ]
     },
     "execution_count": 3,
     "metadata": {},
     "output_type": "execute_result"
    }
   ],
   "source": [
    "x = movie_url_extraction(url)\n",
    "len(x)"
   ]
  },
  {
   "cell_type": "code",
   "execution_count": 5,
   "id": "4f86e8ac",
   "metadata": {},
   "outputs": [],
   "source": [
    "def fetch_script(url_tuple):\n",
    "    url_name = url_tuple[1]\n",
    "    script_dict = {}\n",
    "    response = requests.get(url_name).text\n",
    "    bs2 = BeautifulSoup(response)\n",
    "    script_detail = bs2.find('table', {'class':\"script-details\"})\n",
    "    detail = script_detail.findAll('a')\n",
    "    genre = []\n",
    "    writer = []\n",
    "    #TITLE\n",
    "    script_dict['Title'] = url_tuple[0]\n",
    "    #DATE EXTRACTION\n",
    "    SDate = script_detail.find('b', string='Script Date')\n",
    "    if SDate:\n",
    "        SDate = SDate.next.next\n",
    "        SDate = str(SDate)\n",
    "        SDate = SDate.replace(\":\", \"\")\n",
    "        SDate = SDate.lstrip()\n",
    "        script_dict['ScriptDate'] = SDate\n",
    "    else:\n",
    "        script_dict['ScriptDate'] = None\n",
    "\n",
    "    mrdate = script_detail.find('b', string='Movie Release Date')\n",
    "    if mrdate:\n",
    "        mrdate = mrdate.next.next\n",
    "        mrdate = str(mrdate)\n",
    "        mrdate = mrdate.replace(\":\", \"\")\n",
    "        mrdate = mrdate.lstrip()\n",
    "        script_dict['Movie Release Date'] = mrdate\n",
    "    else:\n",
    "        script_dict['Movie Release Date'] = None\n",
    "    #WRITER GENRE\n",
    "    for i in range(len(detail)-1):\n",
    "        a = detail[i].text\n",
    "        if a in list_genre:\n",
    "            genre.append(a)\n",
    "        else:\n",
    "            writer.append(a)\n",
    "    script_dict['Genre'] = genre\n",
    "    script_dict['Writer'] = writer\n",
    "    url_script = url + detail[-1]['href']\n",
    "    bsscript = BeautifulSoup(requests.get(url_script).text)\n",
    "    if bsscript.find('pre'):\n",
    "        script_dict['Script'] = bsscript.find('pre').text\n",
    "    else:\n",
    "        script_dict['Script'] = None\n",
    "        print(url_tuple[0])\n",
    "    return script_dict"
   ]
  },
  {
   "cell_type": "code",
   "execution_count": 19,
   "id": "6a14e00a",
   "metadata": {},
   "outputs": [],
   "source": [
    "romance_url = \"https://imsdb.com/genre/Romance\"\n",
    "horror_url = \"https://imsdb.com/genre/Horror\"\n",
    "musical_url = \"https://imsdb.com/genre/Musical\"\n",
    "\n",
    "three_genre = [romance_url, horror_url, musical_url]\n",
    "romance = set()\n",
    "horror = set()\n",
    "musical = set()\n",
    "\n",
    "\n",
    "for i, url in enumerate(three_genre):\n",
    "    response = requests.get(url).text\n",
    "    bs = BeautifulSoup(response)\n",
    "    b = bs.findAll('table')[1].findAll('p')\n",
    "    for j in range(len(b)):\n",
    "        title = b[j].a.text\n",
    "        if i == 0:\n",
    "            romance.add(title)\n",
    "        elif i == 1:\n",
    "            horror.add(title)\n",
    "        else:\n",
    "            musical.add(title)\n",
    "\n",
    "        "
   ]
  },
  {
   "cell_type": "code",
   "execution_count": 36,
   "id": "85d31d8f",
   "metadata": {},
   "outputs": [],
   "source": [
    "all_int = horror.intersection(musical, romance)\n",
    "romance_horror = romance.intersection(horror)\n",
    "romance_musical = romance.intersection(musical)\n",
    "horror_musical = horror.intersection(musical)\n",
    "\n",
    "\n",
    "num_unique_romance = len(romance) - len(romance_horror) - len(romance_musical) + len(all_int)\n",
    "num_unique_horror = len(horror) - len(romance_horror) - len(horror_musical) + len(all_int)\n",
    "num_unique_musical = len(musical) - len(horror_musical) - len(romance_musical) + len(all_int)\n",
    "num_unique_int_ro_hor = len(romance_horror) \n",
    "num_unique_int_ro_musical = len(romance_musical)\n",
    "num_unique_int_hor_musical = len(horror_musical)\n"
   ]
  },
  {
   "cell_type": "code",
   "execution_count": 38,
   "id": "d532a61d",
   "metadata": {},
   "outputs": [
    {
     "data": {
      "image/png": "[encoded data removed]",
      "text/plain": [
       "<Figure size 640x480 with 1 Axes>"
      ]
     },
     "metadata": {},
     "output_type": "display_data"
    }
   ],
   "source": [
    "import matplotlib.pyplot as plt\n",
    "import numpy as np\n",
    "categories = ['musical', 'horror', 'romance']\n",
    "values = np.array([[num_unique_musical, num_unique_int_hor_musical, num_unique_int_ro_musical],\n",
    "                   [num_unique_int_hor_musical, num_unique_horror, num_unique_int_ro_hor],\n",
    "                   [num_unique_int_ro_musical, num_unique_int_ro_hor, num_unique_romance]])\n",
    "\n",
    "fig, ax = plt.subplots()\n",
    "colors = ['blue', 'gray', 'pink']\n",
    "for i in range(values.shape[0]):\n",
    "    bars = ax.bar(categories, values[i], bottom=np.sum(values[:i], axis=0), label=categories[i], color=colors[i])\n",
    "ax.legend(labels=categories)\n",
    "\n",
    "plt.show()"
   ]
  },
  {
   "cell_type": "code",
   "execution_count": null,
   "id": "899236f1",
   "metadata": {},
   "outputs": [],
   "source": []
  },
  {
   "cell_type": "code",
   "execution_count": null,
   "id": "781bc03a",
   "metadata": {},
   "outputs": [],
   "source": [
    "response = requests.get(romance_url).text\n",
    "bs = BeautifulSoup(response)\n"
   ]
  },
  {
   "cell_type": "code",
   "execution_count": 17,
   "id": "13ef21f0",
   "metadata": {},
   "outputs": [],
   "source": [
    "b = bs.findAll('table')[1].findAll('p')\n",
    "for i in range(len(b)):\n",
    "    title = b[i].a.text\n",
    "    romance.add(title)"
   ]
  },
  {
   "cell_type": "code",
   "execution_count": 18,
   "id": "44c22110",
   "metadata": {},
   "outputs": [
    {
     "data": {
      "text/plain": [
       "210"
      ]
     },
     "execution_count": 18,
     "metadata": {},
     "output_type": "execute_result"
    }
   ],
   "source": [
    "len(romance)"
   ]
  },
  {
   "cell_type": "markdown",
   "id": "9b612cdc",
   "metadata": {
    "tags": [
     "exercise"
    ]
   },
   "source": [
    "__(b)__ We are interested in the genres `'Musical'`, `'Horror'`, and `'Romance'`. Craft a barplot displaying the absolute counts for each of these categories. In each bar, color-code the fractions of movies that are also counted in another genres. "
   ]
  },
  {
   "cell_type": "markdown",
   "id": "8358fa83",
   "metadata": {
    "tags": [
     "exercise"
    ]
   },
   "source": [
    "__(c, i)__ Using only regex, write a function `tokenizer` that returns bigrams of all non-whitespace and non-punctuation characters, according to the test case below: \n",
    "\n",
    "```python\n",
    "test = '''\n",
    "    Neque porro quisquam est, qui dolorem ipsum quia dolor sit amet, \n",
    "    consectetur, adipisci velit, sed quia non numquam eius modi tempora \n",
    "    incidunt ut labore et dolore magnam aliquam quaerat voluptatem.\n",
    "'''\n",
    "tokenizer(test)\n",
    ">>> ['neque porro',\n",
    " 'porro quisquam',\n",
    " 'quisquam est',\n",
    " 'qui dolorem',\n",
    " 'dolorem ipsum',\n",
    " 'ipsum quia',\n",
    " 'quia dolor',\n",
    " 'dolor sit',\n",
    " 'sit amet',\n",
    " 'adipisci velit',\n",
    " 'sed quia',\n",
    " 'quia non',\n",
    " 'non numquam',\n",
    " 'numquam eius',\n",
    " 'eius modi',\n",
    " 'modi tempora',\n",
    " 'incidunt ut',\n",
    " 'ut labore',\n",
    " 'labore et',\n",
    " 'et dolore',\n",
    " 'dolore magnam',\n",
    " 'magnam aliquam',\n",
    " 'aliquam quaerat',\n",
    " 'quaerat voluptatem']\n",
    " ```"
   ]
  },
  {
   "cell_type": "markdown",
   "id": "1241f210",
   "metadata": {
    "tags": [
     "exercise"
    ]
   },
   "source": [
    "__(ii)__ Use the tokenizer to obtain a tf-idf vector for each movie. Perform a (non-centered) principal component analysis (`sklearn.decomposition.TruncatedSVD`). _What fraction of variation is explained by the first principal component?_ __(iii)__ Generate a strip-plot for the first principal components versus all three genres. Does visualization indicate that a good classification could result from this approach? "
   ]
  }
 ],
 "metadata": {
  "celltoolbar": "Tags",
  "kernelspec": {
   "display_name": "Python 3 (ipykernel)",
   "language": "python",
   "name": "python3"
  },
  "language_info": {
   "codemirror_mode": {
    "name": "ipython",
    "version": 3
   },
   "file_extension": ".py",
   "mimetype": "text/x-python",
   "name": "python",
   "nbconvert_exporter": "python",
   "pygments_lexer": "ipython3",
   "version": "3.11.5"
  }
 },
 "nbformat": 4,
 "nbformat_minor": 5
}
