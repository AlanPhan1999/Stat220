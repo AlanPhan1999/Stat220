{
 "cells": [
  {
   "cell_type": "markdown",
   "id": "7b4bee3a",
   "metadata": {
    "tags": [
     "header"
    ]
   },
   "source": [
    "# STA 220 Assignment 3\n",
    "\n",
    "Due __Februrary 23, 2024__ by __11:59pm__. Submit your work by uploading it to Gradescope through Canvas.\n",
    "\n",
    "Instructions:\n",
    "\n",
    "1. Provide your solutions in new cells following each exercise description. Create as many new cells as necessary. Use code cells for your Python scripts and Markdown cells for explanatory text or answers to non-coding questions. Answer all textual questions in complete sentences.\n",
    "2. The use of assistive tools is permitted, but must be indicated. You will be graded on you proficiency in coding. Produce high quality code by adhering to proper programming principles. \n",
    "3. Export the .jpynb as .pdf and submit it on Gradescope in time. To facilitate grading, indicate the area of the solution on the submission. Submissions without indication will be marked down. No late submissions accepted. \n",
    "4. If test cases are given, your solution must be in the same format. \n",
    "5. The total number of points is 10. "
   ]
  },
  {
   "cell_type": "markdown",
   "id": "17c77449",
   "metadata": {
    "tags": [
     "exercise"
    ]
   },
   "source": [
    "__(a, i)__ Write a function that retrieves all links to movies in the database by scraping the _alphabetical_ section on [imsdb.com](https://imsdb.com/) and retrieve the links. _How many links did you find?_ __(ii)__ Write a function `fetch_script` that, given the link of a movie retrieved in (i), returns a dictionary that contains all relevant information of the movie: \n",
    "\n",
    "```python\n",
    "fetch_script('/Movie Scripts/10 Things I Hate About You Script.html')\n",
    "\n",
    ">>> {'title': '10 Things I Hate About You',\n",
    "     'writers': ['Karen McCullah Lutz', 'Kirsten Smith', 'William Shakespeare'],\n",
    "     'genres': ['Comedy', 'Romance'],\n",
    "     'date': 1997,\n",
    "     'script': '...'}\n",
    "```\n",
    "\n",
    "The `script` field contains a string of the scraped script. Retrieve the information for all movies. _How many scripts did you retrieve?_"
   ]
  },
  {
   "cell_type": "code",
   "execution_count": 11,
   "id": "32060c8e",
   "metadata": {},
   "outputs": [],
   "source": [
    "from bs4 import BeautifulSoup\n",
    "import requests\n",
    "import re\n",
    "import pickle"
   ]
  },
  {
   "cell_type": "code",
   "execution_count": 12,
   "id": "025bd32f",
   "metadata": {},
   "outputs": [],
   "source": [
    "#Created a genre list\n",
    "list_genre = str.split(\"Action Adventure Animation Comedy Crime Drama Family Fantasy Film-Noir Horror Musical Mystery Romance Sci-Fi Short Thriller War Western\")\n",
    "#This is the base url\n",
    "url = \"https://imsdb.com/\"\n",
    "#Defined a function that extracts all the movies from the ABC.. urls\n",
    "def movie_url_extraction(url):\n",
    "    #Create a movie title list This is our output\n",
    "    movie_title_url_list = []\n",
    "    #Create a list that holds all the ABC urls\n",
    "    url_list = []\n",
    "    response = requests.get(url)\n",
    "    bs = BeautifulSoup(response.text)\n",
    "    html_url_list = bs.body.contents[5].find('td').findAll('td')[3:30]\n",
    "    #Append all the ABC urls into the url_list\n",
    "    for i in range(len(html_url_list)):\n",
    "        url_list.append(url + html_url_list[i].a['href'])\n",
    "    #for every url in the abc list go into that url and get every movie link as well as their title\n",
    "    for i in range(len(url_list)):\n",
    "        url_1 = url_list[i]\n",
    "        response = requests.get(url_1).text\n",
    "        bs = BeautifulSoup(response)\n",
    "        script_url = bs.findAll('table')[1].findAll('td', {'valign':'top'})[1].findAll('p')\n",
    "        for i in range(len(script_url)):\n",
    "            tuple = (script_url[i].find('a').text, url + script_url[i].find('a')['href'])\n",
    "            #Append a tuple that has the title and the url link\n",
    "            movie_title_url_list.append(tuple)\n",
    "    return movie_title_url_list    "
   ]
  },
  {
   "cell_type": "code",
   "execution_count": 13,
   "id": "1431180c",
   "metadata": {},
   "outputs": [
    {
     "data": {
      "text/plain": [
       "1221"
      ]
     },
     "execution_count": 13,
     "metadata": {},
     "output_type": "execute_result"
    }
   ],
   "source": [
    "#Save the urls into a list called x (I ran out of variable ideas at this point)\n",
    "x = movie_url_extraction(url)\n",
    "print(\"The number of movies in the website is \" len(x))"
   ]
  },
  {
   "cell_type": "code",
   "execution_count": 14,
   "id": "4f86e8ac",
   "metadata": {},
   "outputs": [],
   "source": [
    "#Create a function that will get a url the tuple created above and return a dictionary that has the name, genre, write, and date, and script\n",
    "def fetch_script(url_tuple):\n",
    "    url_name = url_tuple[1]\n",
    "    script_dict = {}\n",
    "    response = requests.get(url_name).text\n",
    "    bs2 = BeautifulSoup(response)\n",
    "    script_detail = bs2.find('table', {'class':\"script-details\"})\n",
    "    detail = script_detail.findAll('a')\n",
    "    genre = []\n",
    "    writer = []\n",
    "    #TITLE\n",
    "    script_dict['Title'] = url_tuple[0]\n",
    "    #DATE EXTRACTION\n",
    "    SDate = script_detail.find('b', string='Script Date')\n",
    "    if SDate:\n",
    "        SDate = SDate.next.next\n",
    "        SDate = str(SDate)\n",
    "        SDate = SDate.replace(\":\", \"\")\n",
    "        SDate = SDate.lstrip()\n",
    "        script_dict['ScriptDate'] = SDate\n",
    "    else:\n",
    "        script_dict['ScriptDate'] = None\n",
    "\n",
    "    mrdate = script_detail.find('b', string='Movie Release Date')\n",
    "    if mrdate:\n",
    "        mrdate = mrdate.next.next\n",
    "        mrdate = str(mrdate)\n",
    "        mrdate = mrdate.replace(\":\", \"\")\n",
    "        mrdate = mrdate.lstrip()\n",
    "        script_dict['Movie Release Date'] = mrdate\n",
    "    else:\n",
    "        script_dict['Movie Release Date'] = None\n",
    "    #WRITER GENRE\n",
    "    for i in range(len(detail)-1):\n",
    "        a = detail[i].text\n",
    "        if a in list_genre:\n",
    "            genre.append(a)\n",
    "        else:\n",
    "            writer.append(a)\n",
    "    script_dict['Genre'] = genre\n",
    "    script_dict['Writer'] = writer\n",
    "    url_script = url + detail[-1]['href']\n",
    "    bsscript = BeautifulSoup(requests.get(url_script).text)\n",
    "    if bsscript.find('pre'):\n",
    "        script_dict['Script'] = bsscript.find('pre').text\n",
    "    else:\n",
    "        script_dict['Script'] = None\n",
    "        print(url_tuple[0])\n",
    "    return script_dict"
   ]
  },
  {
   "cell_type": "code",
   "execution_count": 15,
   "id": "6a14e00a",
   "metadata": {},
   "outputs": [],
   "source": [
    "#Get the romance, horror, and musical genre url\n",
    "romance_url = \"https://imsdb.com/genre/Romance\"\n",
    "horror_url = \"https://imsdb.com/genre/Horror\"\n",
    "musical_url = \"https://imsdb.com/genre/Musical\"\n",
    "\n",
    "#Create a list that has each genre in it\n",
    "three_genre = [romance_url, horror_url, musical_url]\n",
    "#Create empty set that we can append the titles into\n",
    "romance = set()\n",
    "horror = set()\n",
    "musical = set()\n",
    "\n",
    "#Extract the title and put it into each of these sets based on it's respective genre\n",
    "for i, url in enumerate(three_genre):\n",
    "    response = requests.get(url).text\n",
    "    bs = BeautifulSoup(response)\n",
    "    b = bs.findAll('table')[1].findAll('p')\n",
    "    for j in range(len(b)):\n",
    "        title = b[j].a.text\n",
    "        if i == 0:\n",
    "            romance.add(title)\n",
    "        elif i == 1:\n",
    "            horror.add(title)\n",
    "        else:\n",
    "            musical.add(title)\n",
    "\n",
    "        "
   ]
  },
  {
   "cell_type": "code",
   "execution_count": 16,
   "id": "85d31d8f",
   "metadata": {},
   "outputs": [],
   "source": [
    "#Lot of set algebra to get the number of unique intersections and movies without any intersection of genres\n",
    "all_int = horror.intersection(musical, romance)\n",
    "romance_horror = romance.intersection(horror)\n",
    "romance_musical = romance.intersection(musical)\n",
    "horror_musical = horror.intersection(musical)\n",
    "\n",
    "\n",
    "num_unique_romance = len(romance) - len(romance_horror) - len(romance_musical) + len(all_int)\n",
    "num_unique_horror = len(horror) - len(romance_horror) - len(horror_musical) + len(all_int)\n",
    "num_unique_musical = len(musical) - len(horror_musical) - len(romance_musical) + len(all_int)\n",
    "num_unique_int_ro_hor = len(romance_horror) \n",
    "num_unique_int_ro_musical = len(romance_musical)\n",
    "num_unique_int_hor_musical = len(horror_musical)\n"
   ]
  },
  {
   "cell_type": "code",
   "execution_count": 20,
   "id": "d532a61d",
   "metadata": {},
   "outputs": [
    {
     "data": {
      "image/png": "[encoded data removed]",
      "text/plain": [
       "<Figure size 640x480 with 1 Axes>"
      ]
     },
     "metadata": {},
     "output_type": "display_data"
    }
   ],
   "source": [
    "#Graph the number of movies in each genre and include different coloring for intersections\n",
    "import matplotlib.pyplot as plt\n",
    "import numpy as np\n",
    "categories = ['musical', 'horror', 'romance']\n",
    "values = np.array([[num_unique_musical, num_unique_int_hor_musical, num_unique_int_ro_musical],\n",
    "                   [num_unique_int_hor_musical, num_unique_horror, num_unique_int_ro_hor],\n",
    "                   [num_unique_int_ro_musical, num_unique_int_ro_hor, num_unique_romance]])\n",
    "\n",
    "fig, ax = plt.subplots()\n",
    "colors = ['blue', 'gray', 'pink']\n",
    "\n",
    "bar1 = ax.bar(categories, values[0], bottom=np.sum(values[:0], axis=0), label=categories[0], color=colors[0])\n",
    "bar2 = ax.bar(categories, values[1], bottom=np.sum(values[:1], axis=0), label=categories[1], color=colors[1])\n",
    "bar3 = ax.bar(categories, values[2], bottom=np.sum(values[:2], axis=0), label=categories[2], color=colors[2])\n",
    "\n",
    "ax.legend(labels=categories)\n",
    "\n",
    "plt.show()"
   ]
  },
  {
   "cell_type": "markdown",
   "id": "9b612cdc",
   "metadata": {
    "tags": [
     "exercise"
    ]
   },
   "source": [
    "__(b)__ We are interested in the genres `'Musical'`, `'Horror'`, and `'Romance'`. Craft a barplot displaying the absolute counts for each of these categories. In each bar, color-code the fractions of movies that are also counted in another genres. "
   ]
  },
  {
   "cell_type": "markdown",
   "id": "8358fa83",
   "metadata": {
    "tags": [
     "exercise"
    ]
   },
   "source": [
    "__(c, i)__ Using only regex, write a function `tokenizer` that returns bigrams of all non-whitespace and non-punctuation characters, according to the test case below: \n",
    "\n",
    "```python\n",
    "test = '''\n",
    "    Neque porro quisquam est, qui dolorem ipsum quia dolor sit amet, \n",
    "    consectetur, adipisci velit, sed quia non numquam eius modi tempora \n",
    "    incidunt ut labore et dolore magnam aliquam quaerat voluptatem.\n",
    "'''\n",
    "tokenizer(test)\n",
    ">>> ['neque porro',\n",
    " 'porro quisquam',\n",
    " 'quisquam est',\n",
    " 'qui dolorem',\n",
    " 'dolorem ipsum',\n",
    " 'ipsum quia',\n",
    " 'quia dolor',\n",
    " 'dolor sit',\n",
    " 'sit amet',\n",
    " 'adipisci velit',\n",
    " 'sed quia',\n",
    " 'quia non',\n",
    " 'non numquam',\n",
    " 'numquam eius',\n",
    " 'eius modi',\n",
    " 'modi tempora',\n",
    " 'incidunt ut',\n",
    " 'ut labore',\n",
    " 'labore et',\n",
    " 'et dolore',\n",
    " 'dolore magnam',\n",
    " 'magnam aliquam',\n",
    " 'aliquam quaerat',\n",
    " 'quaerat voluptatem']\n",
    " ```"
   ]
  },
  {
   "cell_type": "code",
   "execution_count": 198,
   "id": "7ae60897",
   "metadata": {},
   "outputs": [
    {
     "name": "stdout",
     "output_type": "stream",
     "text": [
      "['neque porro', 'porro quisquam', 'quisquam est', 'est qui', 'qui dolorem', 'dolorem ipsum', 'ipsum quia', 'quia dolor', 'dolor sit', 'sit amet', 'amet consectetur', 'consectetur adipisci', 'adipisci velit', 'velit sed', 'sed quia', 'quia non', 'non numquam', 'numquam eius', 'eius modi', 'modi tempora', 'tempora incidunt', 'incidunt ut', 'ut labore', 'labore et', 'et dolore', 'dolore magnam', 'magnam aliquam', 'aliquam quaerat', 'quaerat voluptatem']\n"
     ]
    }
   ],
   "source": [
    "#Test string\n",
    "test = '''\n",
    "    Neque porro quisquam est, qui dolorem ipsum quia dolor sit amet, \n",
    "    consectetur, adipisci velit, sed quia non numquam eius modi tempora \n",
    "    incidunt ut labore et dolore magnam aliquam quaerat voluptatem.\n",
    "'''\n",
    "import string\n",
    "\n",
    "import re\n",
    "\n",
    "def tokenize_bigram(text):\n",
    "    #Use regex to remove white space and punctuation\n",
    "    text = re.sub(r'[^\\w\\s]', '', text)\n",
    "    #Lower Case all words\n",
    "    text = text.lower()\n",
    "    #Split text into words\n",
    "    words = text.split()\n",
    "    \n",
    "    #Generate bigrams\n",
    "    bigrams = [' '.join(words[i:i+2]) for i in range(len(words)-1)]\n",
    "    \n",
    "    return bigrams\n",
    "\n",
    "tokenized_bigram = tokenize_bigram(test)\n",
    "print(tokenized_bigram)"
   ]
  },
  {
   "cell_type": "markdown",
   "id": "1241f210",
   "metadata": {
    "tags": [
     "exercise"
    ]
   },
   "source": [
    "__(ii)__ Use the tokenizer to obtain a tf-idf vector for each movie. Perform a (non-centered) principal component analysis (`sklearn.decomposition.TruncatedSVD`). _What fraction of variation is explained by the first principal component?_ __(iii)__ Generate a strip-plot for the first principal components versus all three genres. Does visualization indicate that a good classification could result from this approach? "
   ]
  },
  {
   "cell_type": "code",
   "execution_count": 24,
   "id": "b8db3714",
   "metadata": {},
   "outputs": [
    {
     "data": {
      "text/plain": [
       "1221"
      ]
     },
     "execution_count": 24,
     "metadata": {},
     "output_type": "execute_result"
    }
   ],
   "source": [
    "#Extract only a list of urls from the tuple created before\n",
    "urls = map(lambda y: y[1], x)\n",
    "urls = list(urls)\n"
   ]
  },
  {
   "cell_type": "code",
   "execution_count": 46,
   "id": "38370ea4",
   "metadata": {},
   "outputs": [],
   "source": [
    "#With the base url I created a smaller function that will only extract the scripts from the url\n",
    "base = \"https://imsdb.com/\"\n",
    "script_list = []\n",
    "def script_extraction(url):\n",
    "    response = requests.get(url).text\n",
    "    bs = BeautifulSoup(response)\n",
    "    script_detail = bs.find('table', {'class':\"script-details\"})\n",
    "    detail = script_detail.findAll('a')\n",
    "    script_url = base + detail[-1]['href']\n",
    "    response = requests.get(script_url).text\n",
    "    bs = BeautifulSoup(response)\n",
    "    #Check if a specific tag exists, if it doesn't then return none\n",
    "    if bs.find('pre'):\n",
    "        return bs.find('pre').text\n",
    "    else:\n",
    "        return None"
   ]
  },
  {
   "cell_type": "code",
   "execution_count": 53,
   "id": "acf9d953",
   "metadata": {},
   "outputs": [],
   "source": [
    "#Used threading to create a list of scrips\n",
    "import concurrent.futures\n",
    "def threaded_script_extraction(script_list, url_list):\n",
    "    with concurrent.futures.ThreadPoolExecutor(max_workers = 16) as executor:\n",
    "        for result in executor.map(script_extraction, url_list):\n",
    "            script_list.append(result)"
   ]
  },
  {
   "cell_type": "code",
   "execution_count": 67,
   "id": "3ea1e75e",
   "metadata": {},
   "outputs": [],
   "source": [
    "#Use the threaded function\n",
    "threaded_script_extraction(script_list, urls[1195:])"
   ]
  },
  {
   "cell_type": "code",
   "execution_count": null,
   "id": "e7608e84",
   "metadata": {},
   "outputs": [],
   "source": [
    "#Save script list into a pickle file for easier access in case I have to work more\n",
    "#import pickle\n",
    "#with open(\"../Data/scripts.pkl\", \"ab\") as f:\n",
    "#    pickle.dump(script_list, f)"
   ]
  },
  {
   "cell_type": "code",
   "execution_count": 84,
   "id": "2df3f344",
   "metadata": {},
   "outputs": [],
   "source": [
    "#Create a list of tokenized words\n",
    "tokenized_script = []\n",
    "for i, script in enumerate(script_list):\n",
    "    tokenized_script.append(tokenize_bigram(script))"
   ]
  },
  {
   "cell_type": "code",
   "execution_count": 99,
   "id": "5c83929f",
   "metadata": {},
   "outputs": [],
   "source": [
    "#Create a set that has both the title and the tokenized script\n",
    "title_token = []\n",
    "for i in range(len(x)):\n",
    "    title_token.append((x[i][0], tokenized_script[i]))"
   ]
  },
  {
   "cell_type": "code",
   "execution_count": 103,
   "id": "b10de87f",
   "metadata": {},
   "outputs": [
    {
     "data": {
      "text/plain": [
       "1150"
      ]
     },
     "execution_count": 103,
     "metadata": {},
     "output_type": "execute_result"
    }
   ],
   "source": [
    "#Remove all movies that I could not extract the script from\n",
    "title_token_nones = []\n",
    "for x in title_token:\n",
    "  if (x[1] != None):\n",
    "    title_token_nones.append(x)\n",
    "\n",
    "len(title_token_nones)"
   ]
  },
  {
   "cell_type": "code",
   "execution_count": 159,
   "id": "23f65c5e",
   "metadata": {},
   "outputs": [],
   "source": [
    "#Use tfidfvectorizer to create the tfidf vector\n",
    "from sklearn.feature_extraction.text import TfidfVectorizer\n",
    "only_token_list = []\n",
    "for token in title_token_nones:\n",
    "    only_token_list.append(token[1])\n",
    "\n",
    "def dummy_fun(doc):\n",
    "    return doc\n",
    "\n",
    "vectorizer = TfidfVectorizer(\n",
    "    analyzer='word',\n",
    "    tokenizer=dummy_fun,\n",
    "    preprocessor=dummy_fun,\n",
    "    token_pattern=None)  \n",
    "X = vectorizer.fit_transform(only_token_list)"
   ]
  },
  {
   "cell_type": "code",
   "execution_count": 161,
   "id": "6532a875",
   "metadata": {},
   "outputs": [
    {
     "name": "stdout",
     "output_type": "stream",
     "text": [
      "The explained variance in the first component is:  [0.00447878]\n"
     ]
    }
   ],
   "source": [
    "#Create a truncated SVD\n",
    "from sklearn.decomposition import TruncatedSVD\n",
    "svd = TruncatedSVD(n_components=1, algorithm='randomized',\n",
    "                     random_state=42)\n",
    "output = svd.fit(X)\n",
    "#Calculate the explained variance and output\n",
    "print(\"The explained variance in the first component is: \", svd.explained_variance_ratio_)"
   ]
  },
  {
   "cell_type": "code",
   "execution_count": 167,
   "id": "c523817a",
   "metadata": {},
   "outputs": [],
   "source": [
    "#Create a list that has a list of tokenized movies based on the genre tag\n",
    "romance_token = []\n",
    "horror_token = []\n",
    "musical_token = []\n",
    "for tuple in title_token_nones:\n",
    "    if tuple[0] in romance:\n",
    "        romance_token.append(tuple[1])\n",
    "    if tuple[0] in horror:\n",
    "        horror_token.append(tuple[1])\n",
    "    if tuple[0] in musical:\n",
    "        musical_token.append(tuple[1])\n",
    "    \n"
   ]
  },
  {
   "cell_type": "code",
   "execution_count": 174,
   "id": "4ffe45be",
   "metadata": {},
   "outputs": [
    {
     "name": "stdout",
     "output_type": "stream",
     "text": [
      "The explained variance in the first component is:  [0.00512236]\n"
     ]
    }
   ],
   "source": [
    "#Vectorize and output the explained variance and keep the transformed output for graphing\n",
    "vectorizer = TfidfVectorizer(\n",
    "    analyzer='word',\n",
    "    tokenizer=dummy_fun,\n",
    "    preprocessor=dummy_fun,\n",
    "    token_pattern=None)  \n",
    "romance_tf = vectorizer.fit_transform(romance_token)\n",
    "svd = TruncatedSVD(n_components=1, algorithm='randomized',\n",
    "                     random_state=42)\n",
    "romance_svd = svd.fit(romance_tf)\n",
    "print(\"The explained variance in the first component is: \", romance_svd.explained_variance_ratio_)\n",
    "romance_output = svd.transform(romance_tf)"
   ]
  },
  {
   "cell_type": "code",
   "execution_count": 175,
   "id": "1250ec97",
   "metadata": {},
   "outputs": [
    {
     "name": "stdout",
     "output_type": "stream",
     "text": [
      "The explained variance in the first component is:  [0.00677619]\n"
     ]
    }
   ],
   "source": [
    "#Vectorize and output the explained variance and keep the transformed output for graphing\n",
    "vectorizer = TfidfVectorizer(\n",
    "    analyzer='word',\n",
    "    tokenizer=dummy_fun,\n",
    "    preprocessor=dummy_fun,\n",
    "    token_pattern=None)  \n",
    "horror_tf = vectorizer.fit_transform(horror_token)\n",
    "svd = TruncatedSVD(n_components=1, algorithm='randomized',\n",
    "                     random_state=42)\n",
    "horror_svd = svd.fit(horror_tf)\n",
    "print(\"The explained variance in the first component is: \", horror_svd.explained_variance_ratio_)\n",
    "horror_output = svd.transform(horror_tf)"
   ]
  },
  {
   "cell_type": "code",
   "execution_count": 176,
   "id": "f2084877",
   "metadata": {},
   "outputs": [
    {
     "name": "stdout",
     "output_type": "stream",
     "text": [
      "The explained variance in the first component is:  [0.00894262]\n"
     ]
    }
   ],
   "source": [
    "#Vectorize and output the explained variance and keep the transformed output for graphing\n",
    "\n",
    "vectorizer = TfidfVectorizer(\n",
    "    analyzer='word',\n",
    "    tokenizer=dummy_fun,\n",
    "    preprocessor=dummy_fun,\n",
    "    token_pattern=None)  \n",
    "musical_tf = vectorizer.fit_transform(musical_token)\n",
    "svd = TruncatedSVD(n_components=1, algorithm='randomized',\n",
    "                     random_state=42)\n",
    "musical_svd = svd.fit(musical_tf)\n",
    "print(\"The explained variance in the first component is: \", musical_svd.explained_variance_ratio_)\n",
    "musical_output = svd.transform(musical_tf)"
   ]
  },
  {
   "cell_type": "code",
   "execution_count": 192,
   "id": "4dd34b7f",
   "metadata": {},
   "outputs": [],
   "source": [
    "#Create a function that flattens the array into a single list\n",
    "from itertools import chain\n",
    "\n",
    "def flatten_chain(matrix):\n",
    "     return list(chain.from_iterable(matrix))"
   ]
  },
  {
   "cell_type": "code",
   "execution_count": 197,
   "id": "4ff4e57a",
   "metadata": {},
   "outputs": [
    {
     "data": {
      "image/png": "[encoded data removed]",
      "text/plain": [
       "<Figure size 800x600 with 1 Axes>"
      ]
     },
     "metadata": {},
     "output_type": "display_data"
    }
   ],
   "source": [
    "#Create a dictionary that has the genre tag and list of svd values\n",
    "data = {\n",
    "    'musical': flatten_chain(musical_output),\n",
    "    'horror': flatten_chain(horror_output),\n",
    "    'romance': flatten_chain(romance_output)\n",
    "}\n",
    "plt.figure(figsize=(8, 6))\n",
    "\n",
    "#plot the strip plot in each genre\n",
    "for genre, values in data.items():\n",
    "    x = [genre] * len(values)  # Repeat genre name for each value\n",
    "    plt.scatter(x, values, label=genre)\n",
    "\n",
    "#Add labes and titles\n",
    "plt.xlabel('Genre')\n",
    "plt.ylabel('Value')\n",
    "plt.title('Strip Plot of Genre vs Value')\n",
    "plt.legend()\n",
    "\n",
    "# Show the plot\n",
    "plt.show()"
   ]
  }
 ],
 "metadata": {
  "celltoolbar": "Tags",
  "kernelspec": {
   "display_name": "Python 3 (ipykernel)",
   "language": "python",
   "name": "python3"
  },
  "language_info": {
   "codemirror_mode": {
    "name": "ipython",
    "version": 3
   },
   "file_extension": ".py",
   "mimetype": "text/x-python",
   "name": "python",
   "nbconvert_exporter": "python",
   "pygments_lexer": "ipython3",
   "version": "3.11.5"
  }
 },
 "nbformat": 4,
 "nbformat_minor": 5
}
