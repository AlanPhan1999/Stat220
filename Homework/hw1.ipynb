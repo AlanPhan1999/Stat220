{
 "cells": [
  {
   "cell_type": "markdown",
   "metadata": {
    "tags": [
     "header"
    ]
   },
   "source": [
    "# STA 220 Assignment 1\n",
    "\n",
    "Due __January 26, 2024__ by __11:59pm__. Submit your work by uploading it to Gradescope through Canvas.\n",
    "\n",
    "Instructions:\n",
    "\n",
    "1. Provide your solutions in new cells following each exercise description. Create as many new cells as necessary. Use code cells for your Python scripts and Markdown cells for explanatory text or answers to non-coding questions. Answer all textual questions in complete sentences.\n",
    "2. The use of assistive tools is permitted, but must be indicated. You will be graded on you proficiency in coding. Produce high quality code by adhering to proper programming principles. \n",
    "3. Export the .jpynb as .pdf and submit it on Gradescope in time. To facilitate grading, indicate the area of the solution on the submission. Submissions without indication will be marked down. No late submissions accepted. \n",
    "4. If test cases are given, your solution must be in the same format. \n",
    "5. The total number of points is 10. "
   ]
  },
  {
   "cell_type": "markdown",
   "metadata": {
    "tags": [
     "exercise"
    ]
   },
   "source": [
    "__Exercise 1__\n",
    "\n",
    "Answer the following questions by querying [Lahman Baseball Database](http://seanlahman.com/). The 2019 version together with the description (`readme2019.txt`) are on Piazza. Answer the following questions. \n",
    "\n",
    "The purpose of this assignment is to practice accessing and analyzing data in a database. For full credit for (a) and (b), query the correct table with `pandas.read_sql` and a single SQL query. Unless otherwise specified, return in the same format of the test case. "
   ]
  },
  {
   "cell_type": "markdown",
   "metadata": {
    "tags": [
     "exercise"
    ]
   },
   "source": [
    "__(a, i)__ Which pitcher has the second most [home runs allowed](https://en.wikipedia.org/wiki/Home_runs_allowed) in the American League? __(ii)__ Which pitcher has the worst home runs allowed per game ratio? "
   ]
  },
  {
   "cell_type": "code",
   "execution_count": 1,
   "metadata": {},
   "outputs": [],
   "source": [
    "import pandas as pd\n",
    "import sqlite3 as sql\n",
    "import numpy as np\n",
    "from re import sub \n"
   ]
  },
  {
   "cell_type": "code",
   "execution_count": 2,
   "metadata": {},
   "outputs": [],
   "source": [
    "db = sql.connect(\"../Data/lahmansbaseballdb.sqlite\")"
   ]
  },
  {
   "cell_type": "code",
   "execution_count": 3,
   "metadata": {
    "tags": [
     "test"
    ]
   },
   "outputs": [
    {
     "name": "stdout",
     "output_type": "stream",
     "text": [
      "Tim Wakefield (401)\n"
     ]
    }
   ],
   "source": [
    "# most home runs allowed in the American League: \n",
    "result = pd.read_sql(\"\"\"SELECT nameFirst, nameLast, sum(hr) as HR FROM Pitching as pi\n",
    "                     LEFT JOIN People as p\n",
    "                     on pi.playerID = p.playerID\n",
    "                     WHERE lgID = 'AL'\n",
    "                     GROUP BY pi.playerID\n",
    "                     ORDER BY sum(hr) DESC\n",
    "                     LIMIT 1\n",
    "                     OFFSET 1\"\"\", db).squeeze()\n",
    "print(result['nameFirst'] + \" \" + result['nameLast'] + \" (\" + str(result[\"HR\"]) + \")\")"
   ]
  },
  {
   "cell_type": "code",
   "execution_count": 4,
   "metadata": {},
   "outputs": [
    {
     "name": "stdout",
     "output_type": "stream",
     "text": [
      "Ryan Snare (3.0)\n"
     ]
    }
   ],
   "source": [
    "result = pd.read_sql(\"\"\"SELECT nameFirst, nameLast, SUM(HR) as HRS, TOTAL(HR) as HR, TOTAL(G) as G, (TOTAL(HR) / TOTAL(G)) AS Ratio FROM Pitching as pi\n",
    "                     LEFT JOIN People as p\n",
    "                     on pi.playerID = p.playerID\n",
    "                     WHERE lgID = 'AL'\n",
    "                     GROUP BY pi.playerID\n",
    "                     ORDER BY RATIO DESC\n",
    "                     LIMIT 1\"\"\", db ).squeeze()\n",
    "print(result['nameFirst'] + \" \" + result['nameLast'] + \" (\" + str(result[\"Ratio\"]) + \")\")"
   ]
  },
  {
   "cell_type": "markdown",
   "metadata": {
    "tags": [
     "exercise"
    ]
   },
   "source": [
    "__(b, i)__ Amongst all players in the American League that have passed, report their average lifespan in full years. __(ii)__ Return the six schools with most hall-of-fame alumni. __(iii)__ What fraction of managers have not been professional players?  "
   ]
  },
  {
   "cell_type": "code",
   "execution_count": 5,
   "metadata": {
    "tags": []
   },
   "outputs": [
    {
     "name": "stdout",
     "output_type": "stream",
     "text": [
      "68\n"
     ]
    }
   ],
   "source": [
    "# average lifespan for passed players in the National League\n",
    "result = pd.read_sql(\"\"\"SELECT AVG(deathYear - birthYear) as avglifespan FROM People\n",
    "                     WHERE deathYear IS NOT NULL\"\"\", db).squeeze()\n",
    "print(round(result))"
   ]
  },
  {
   "cell_type": "code",
   "execution_count": 6,
   "metadata": {},
   "outputs": [
    {
     "name": "stdout",
     "output_type": "stream",
     "text": [
      "                           name_full  Count\n",
      "0         St. Bonaventure University      7\n",
      "1             University of Michigan      6\n",
      "2            University of Minnesota      6\n",
      "3  University of Southern California      6\n",
      "4         San Diego State University      5\n",
      "5              University of Alabama      4\n"
     ]
    }
   ],
   "source": [
    "#Six schools with most hall-of-fame alumni\n",
    "result = pd.read_sql(\"\"\"SELECT Sc.name_full, COUNT(HoF.playerID) as Count FROM HallofFame as HoF\n",
    "                     INNER JOIN CollegePlaying as CP\n",
    "                     ON HoF.playerID = CP.playerID\n",
    "                     INNER JOIN Schools as Sc\n",
    "                     ON CP.schoolID = Sc.schoolID\n",
    "                     WHERE inducted = 'Y'\n",
    "                     GROUP BY CP.schoolID\n",
    "                     ORDER BY COUNT(HoF.playerID) DESC\n",
    "                     LIMIT 6\"\"\", db).squeeze()\n",
    "print(result)"
   ]
  },
  {
   "cell_type": "code",
   "execution_count": 7,
   "metadata": {},
   "outputs": [
    {
     "name": "stdout",
     "output_type": "stream",
     "text": [
      "      RATIO\n",
      "0  0.794118\n"
     ]
    }
   ],
   "source": [
    "#What fractions of managers not been professional players\n",
    "result = pd.read_sql(\"\"\"SELECT CAST(COUNT(DISTINCT m.playerID) AS float)/(SELECT COUNT(DISTINCT playerID) FROM Managers) as RATIO\n",
    "                     FROM Managers as m\n",
    "                     INNER JOIN Batting as b\n",
    "                     ON  m.playerID = b.playerID\n",
    "                     INNER JOIN pitching as p\n",
    "                     ON b.playerID = p.playerID\n",
    "                     INNER JOIN Fielding as f\n",
    "                     ON p.playerID = f.playerID\n",
    "                     WHERE m.playerID NOT IN (b.playerID OR p.playerID OR f.playerID)\"\"\", db)\n",
    "print(1 - result)"
   ]
  },
  {
   "cell_type": "markdown",
   "metadata": {
    "tags": [
     "exercise"
    ]
   },
   "source": [
    "__(c)__ Create a world map with a color gradient corresponding to the log-number of players per country in the data set. Use `pandas.read_html` to retrieve the ISO codes from [wikipedia](https://en.wikipedia.org/wiki/List_of_ISO_3166_country_codes), and merge those records as good as you can. Match no more than ten countries to their ISOs manually. "
   ]
  },
  {
   "cell_type": "code",
   "execution_count": 8,
   "metadata": {},
   "outputs": [],
   "source": [
    "url = 'https://en.wikipedia.org/wiki/List_of_ISO_3166_country_codes'\n",
    "table = pd.read_html(url)"
   ]
  },
  {
   "cell_type": "code",
   "execution_count": 9,
   "metadata": {},
   "outputs": [
    {
     "data": {
      "text/html": [
       "<div>\n",
       "<style scoped>\n",
       "    .dataframe tbody tr th:only-of-type {\n",
       "        vertical-align: middle;\n",
       "    }\n",
       "\n",
       "    .dataframe tbody tr th {\n",
       "        vertical-align: top;\n",
       "    }\n",
       "\n",
       "    .dataframe thead tr th {\n",
       "        text-align: left;\n",
       "    }\n",
       "</style>\n",
       "<table border=\"1\" class=\"dataframe\">\n",
       "  <thead>\n",
       "    <tr>\n",
       "      <th></th>\n",
       "      <th>ISO 3166[1]</th>\n",
       "      <th>Unnamed: 1_level_0</th>\n",
       "      <th>Unnamed: 2_level_0</th>\n",
       "      <th colspan=\"3\" halign=\"left\">ISO 3166-1[2]</th>\n",
       "      <th>ISO 3166-2[3]</th>\n",
       "      <th>Unnamed: 7_level_0</th>\n",
       "    </tr>\n",
       "    <tr>\n",
       "      <th></th>\n",
       "      <th>Country name[5]</th>\n",
       "      <th>Official state name per the World Factbook[6][a]</th>\n",
       "      <th>Sovereignty [6][7][8]</th>\n",
       "      <th>A-2 [5]</th>\n",
       "      <th>A-3 [5]</th>\n",
       "      <th>N.c. [5]</th>\n",
       "      <th>Subdivision code links[3]</th>\n",
       "      <th>TLD [9]</th>\n",
       "    </tr>\n",
       "  </thead>\n",
       "  <tbody>\n",
       "    <tr>\n",
       "      <th>1</th>\n",
       "      <td>Afghanistan</td>\n",
       "      <td>The Islamic Republic of Afghanistan</td>\n",
       "      <td>UN member state</td>\n",
       "      <td>.mw-parser-output .monospaced{font-family:mono...</td>\n",
       "      <td>AFG</td>\n",
       "      <td>004</td>\n",
       "      <td>ISO 3166-2:AF</td>\n",
       "      <td>.af</td>\n",
       "    </tr>\n",
       "    <tr>\n",
       "      <th>2</th>\n",
       "      <td>Åland Islands</td>\n",
       "      <td>Åland</td>\n",
       "      <td>Finland</td>\n",
       "      <td>AX</td>\n",
       "      <td>ALA</td>\n",
       "      <td>248</td>\n",
       "      <td>ISO 3166-2:AX</td>\n",
       "      <td>.ax</td>\n",
       "    </tr>\n",
       "    <tr>\n",
       "      <th>3</th>\n",
       "      <td>Albania</td>\n",
       "      <td>The Republic of Albania</td>\n",
       "      <td>UN member state</td>\n",
       "      <td>AL</td>\n",
       "      <td>ALB</td>\n",
       "      <td>008</td>\n",
       "      <td>ISO 3166-2:AL</td>\n",
       "      <td>.al</td>\n",
       "    </tr>\n",
       "    <tr>\n",
       "      <th>4</th>\n",
       "      <td>Algeria</td>\n",
       "      <td>The People's Democratic Republic of Algeria</td>\n",
       "      <td>UN member state</td>\n",
       "      <td>DZ</td>\n",
       "      <td>DZA</td>\n",
       "      <td>012</td>\n",
       "      <td>ISO 3166-2:DZ</td>\n",
       "      <td>.dz</td>\n",
       "    </tr>\n",
       "    <tr>\n",
       "      <th>5</th>\n",
       "      <td>American Samoa</td>\n",
       "      <td>The Territory of American Samoa</td>\n",
       "      <td>United States</td>\n",
       "      <td>AS</td>\n",
       "      <td>ASM</td>\n",
       "      <td>016</td>\n",
       "      <td>ISO 3166-2:AS</td>\n",
       "      <td>.as</td>\n",
       "    </tr>\n",
       "    <tr>\n",
       "      <th>...</th>\n",
       "      <td>...</td>\n",
       "      <td>...</td>\n",
       "      <td>...</td>\n",
       "      <td>...</td>\n",
       "      <td>...</td>\n",
       "      <td>...</td>\n",
       "      <td>...</td>\n",
       "      <td>...</td>\n",
       "    </tr>\n",
       "    <tr>\n",
       "      <th>267</th>\n",
       "      <td>Wallis and Futuna</td>\n",
       "      <td>The Territory of the Wallis and Futuna Islands</td>\n",
       "      <td>France</td>\n",
       "      <td>WF</td>\n",
       "      <td>WLF</td>\n",
       "      <td>876</td>\n",
       "      <td>ISO 3166-2:WF</td>\n",
       "      <td>.wf</td>\n",
       "    </tr>\n",
       "    <tr>\n",
       "      <th>268</th>\n",
       "      <td>Western Sahara [aj]</td>\n",
       "      <td>The Sahrawi Arab Democratic Republic</td>\n",
       "      <td>Disputed [ak]</td>\n",
       "      <td>EH</td>\n",
       "      <td>ESH</td>\n",
       "      <td>732</td>\n",
       "      <td>ISO 3166-2:EH</td>\n",
       "      <td>[al]</td>\n",
       "    </tr>\n",
       "    <tr>\n",
       "      <th>269</th>\n",
       "      <td>Yemen</td>\n",
       "      <td>The Republic of Yemen</td>\n",
       "      <td>UN member state</td>\n",
       "      <td>YE</td>\n",
       "      <td>YEM</td>\n",
       "      <td>887</td>\n",
       "      <td>ISO 3166-2:YE</td>\n",
       "      <td>.ye</td>\n",
       "    </tr>\n",
       "    <tr>\n",
       "      <th>270</th>\n",
       "      <td>Zambia</td>\n",
       "      <td>The Republic of Zambia</td>\n",
       "      <td>UN member state</td>\n",
       "      <td>ZM</td>\n",
       "      <td>ZMB</td>\n",
       "      <td>894</td>\n",
       "      <td>ISO 3166-2:ZM</td>\n",
       "      <td>.zm</td>\n",
       "    </tr>\n",
       "    <tr>\n",
       "      <th>271</th>\n",
       "      <td>Zimbabwe</td>\n",
       "      <td>The Republic of Zimbabwe</td>\n",
       "      <td>UN member state</td>\n",
       "      <td>ZW</td>\n",
       "      <td>ZWE</td>\n",
       "      <td>716</td>\n",
       "      <td>ISO 3166-2:ZW</td>\n",
       "      <td>.zw</td>\n",
       "    </tr>\n",
       "  </tbody>\n",
       "</table>\n",
       "<p>271 rows × 8 columns</p>\n",
       "</div>"
      ],
      "text/plain": [
       "             ISO 3166[1]                               Unnamed: 1_level_0  \\\n",
       "         Country name[5] Official state name per the World Factbook[6][a]   \n",
       "1            Afghanistan              The Islamic Republic of Afghanistan   \n",
       "2          Åland Islands                                            Åland   \n",
       "3                Albania                          The Republic of Albania   \n",
       "4                Algeria      The People's Democratic Republic of Algeria   \n",
       "5         American Samoa                  The Territory of American Samoa   \n",
       "..                   ...                                              ...   \n",
       "267    Wallis and Futuna   The Territory of the Wallis and Futuna Islands   \n",
       "268  Western Sahara [aj]             The Sahrawi Arab Democratic Republic   \n",
       "269                Yemen                            The Republic of Yemen   \n",
       "270               Zambia                           The Republic of Zambia   \n",
       "271             Zimbabwe                         The Republic of Zimbabwe   \n",
       "\n",
       "       Unnamed: 2_level_0                                      ISO 3166-1[2]  \\\n",
       "    Sovereignty [6][7][8]                                            A-2 [5]   \n",
       "1         UN member state  .mw-parser-output .monospaced{font-family:mono...   \n",
       "2                 Finland                                                 AX   \n",
       "3         UN member state                                                 AL   \n",
       "4         UN member state                                                 DZ   \n",
       "5           United States                                                 AS   \n",
       "..                    ...                                                ...   \n",
       "267                France                                                 WF   \n",
       "268         Disputed [ak]                                                 EH   \n",
       "269       UN member state                                                 YE   \n",
       "270       UN member state                                                 ZM   \n",
       "271       UN member state                                                 ZW   \n",
       "\n",
       "                                 ISO 3166-2[3] Unnamed: 7_level_0  \n",
       "    A-3 [5] N.c. [5] Subdivision code links[3]            TLD [9]  \n",
       "1       AFG      004             ISO 3166-2:AF                .af  \n",
       "2       ALA      248             ISO 3166-2:AX                .ax  \n",
       "3       ALB      008             ISO 3166-2:AL                .al  \n",
       "4       DZA      012             ISO 3166-2:DZ                .dz  \n",
       "5       ASM      016             ISO 3166-2:AS                .as  \n",
       "..      ...      ...                       ...                ...  \n",
       "267     WLF      876             ISO 3166-2:WF                .wf  \n",
       "268     ESH      732             ISO 3166-2:EH               [al]  \n",
       "269     YEM      887             ISO 3166-2:YE                .ye  \n",
       "270     ZMB      894             ISO 3166-2:ZM                .zm  \n",
       "271     ZWE      716             ISO 3166-2:ZW                .zw  \n",
       "\n",
       "[271 rows x 8 columns]"
      ]
     },
     "execution_count": 9,
     "metadata": {},
     "output_type": "execute_result"
    }
   ],
   "source": [
    "countries = table[0][1:]\n",
    "countries"
   ]
  },
  {
   "cell_type": "code",
   "execution_count": 10,
   "metadata": {},
   "outputs": [],
   "source": [
    "def remove(string):\n",
    "    '''\n",
    "    Removes everything inside [], a whitespace before that and *'s.\n",
    "    '''\n",
    "    if isinstance(string, str):\n",
    "        string = sub(r'\\s*\\[.*\\]\\**', '', string)\n",
    "    return string\n",
    "\n",
    "countries = countries.applymap(remove)\n",
    "\n",
    "country_name = countries.iloc[:,0]\n",
    "country_iso = countries.iloc[:,4]\n",
    "\n",
    "country = pd.DataFrame({\"Country\":country_name, \"ISO\":country_iso})\n",
    "country['Country'] = country['Country'].str.replace(r'\\([^)]*\\)', '', regex=True)\n",
    "country['Country'] = country['Country'].str.strip()\n",
    "country[country['ISO'] == \"CUW\"] = 'Curacao'"
   ]
  },
  {
   "cell_type": "code",
   "execution_count": 11,
   "metadata": {},
   "outputs": [
    {
     "name": "stderr",
     "output_type": "stream",
     "text": [
      "c:\\Users\\alanp\\anaconda3\\Lib\\site-packages\\pandas\\core\\arraylike.py:396: RuntimeWarning: divide by zero encountered in log\n",
      "  result = getattr(ufunc, method)(*inputs, **kwargs)\n"
     ]
    }
   ],
   "source": [
    "country_df = pd.read_sql(\"\"\"SELECT birthCountry, COUNT(birthCountry) FROM People\n",
    "                     GROUP BY birthCountry\n",
    "                     ORDER BY COUNT(birthCountry) DESC\"\"\", db)\n",
    "country_df.columns = ['Country', 'Frequency']\n",
    "country_df['log_freq'] = np.log(country_df['Frequency'])\n",
    "country_df\n",
    "\n",
    "full_df = country_df.merge(country, how='left', on = \"Country\")"
   ]
  },
  {
   "cell_type": "code",
   "execution_count": 12,
   "metadata": {},
   "outputs": [
    {
     "data": {
      "text/html": [
       "<div>\n",
       "<style scoped>\n",
       "    .dataframe tbody tr th:only-of-type {\n",
       "        vertical-align: middle;\n",
       "    }\n",
       "\n",
       "    .dataframe tbody tr th {\n",
       "        vertical-align: top;\n",
       "    }\n",
       "\n",
       "    .dataframe thead th {\n",
       "        text-align: right;\n",
       "    }\n",
       "</style>\n",
       "<table border=\"1\" class=\"dataframe\">\n",
       "  <thead>\n",
       "    <tr style=\"text-align: right;\">\n",
       "      <th></th>\n",
       "      <th>Country</th>\n",
       "      <th>Frequency</th>\n",
       "      <th>log_freq</th>\n",
       "      <th>ISO</th>\n",
       "    </tr>\n",
       "  </thead>\n",
       "  <tbody>\n",
       "    <tr>\n",
       "      <th>0</th>\n",
       "      <td>USA</td>\n",
       "      <td>17254</td>\n",
       "      <td>9.755799</td>\n",
       "      <td>NaN</td>\n",
       "    </tr>\n",
       "    <tr>\n",
       "      <th>1</th>\n",
       "      <td>D.R.</td>\n",
       "      <td>761</td>\n",
       "      <td>6.634633</td>\n",
       "      <td>NaN</td>\n",
       "    </tr>\n",
       "    <tr>\n",
       "      <th>2</th>\n",
       "      <td>Venezuela</td>\n",
       "      <td>408</td>\n",
       "      <td>6.011267</td>\n",
       "      <td>VEN</td>\n",
       "    </tr>\n",
       "    <tr>\n",
       "      <th>3</th>\n",
       "      <td>P.R.</td>\n",
       "      <td>268</td>\n",
       "      <td>5.590987</td>\n",
       "      <td>NaN</td>\n",
       "    </tr>\n",
       "    <tr>\n",
       "      <th>4</th>\n",
       "      <td>CAN</td>\n",
       "      <td>255</td>\n",
       "      <td>5.541264</td>\n",
       "      <td>NaN</td>\n",
       "    </tr>\n",
       "    <tr>\n",
       "      <th>5</th>\n",
       "      <td>Cuba</td>\n",
       "      <td>218</td>\n",
       "      <td>5.384495</td>\n",
       "      <td>CUB</td>\n",
       "    </tr>\n",
       "    <tr>\n",
       "      <th>6</th>\n",
       "      <td>Mexico</td>\n",
       "      <td>129</td>\n",
       "      <td>4.859812</td>\n",
       "      <td>MEX</td>\n",
       "    </tr>\n",
       "    <tr>\n",
       "      <th>7</th>\n",
       "      <td>Japan</td>\n",
       "      <td>67</td>\n",
       "      <td>4.204693</td>\n",
       "      <td>JPN</td>\n",
       "    </tr>\n",
       "    <tr>\n",
       "      <th>8</th>\n",
       "      <td>Panama</td>\n",
       "      <td>63</td>\n",
       "      <td>4.143135</td>\n",
       "      <td>PAN</td>\n",
       "    </tr>\n",
       "    <tr>\n",
       "      <th>9</th>\n",
       "      <td>United Kingdom</td>\n",
       "      <td>51</td>\n",
       "      <td>3.931826</td>\n",
       "      <td>NaN</td>\n",
       "    </tr>\n",
       "    <tr>\n",
       "      <th>10</th>\n",
       "      <td>Ireland</td>\n",
       "      <td>50</td>\n",
       "      <td>3.912023</td>\n",
       "      <td>IRL</td>\n",
       "    </tr>\n",
       "    <tr>\n",
       "      <th>11</th>\n",
       "      <td>Germany</td>\n",
       "      <td>45</td>\n",
       "      <td>3.806662</td>\n",
       "      <td>DEU</td>\n",
       "    </tr>\n",
       "    <tr>\n",
       "      <th>12</th>\n",
       "      <td>Australia</td>\n",
       "      <td>31</td>\n",
       "      <td>3.433987</td>\n",
       "      <td>AUS</td>\n",
       "    </tr>\n",
       "    <tr>\n",
       "      <th>13</th>\n",
       "      <td>Colombia</td>\n",
       "      <td>24</td>\n",
       "      <td>3.178054</td>\n",
       "      <td>COL</td>\n",
       "    </tr>\n",
       "    <tr>\n",
       "      <th>14</th>\n",
       "      <td>South Korea</td>\n",
       "      <td>23</td>\n",
       "      <td>3.135494</td>\n",
       "      <td>NaN</td>\n",
       "    </tr>\n",
       "    <tr>\n",
       "      <th>15</th>\n",
       "      <td>Taiwan</td>\n",
       "      <td>16</td>\n",
       "      <td>2.772589</td>\n",
       "      <td>TWN</td>\n",
       "    </tr>\n",
       "    <tr>\n",
       "      <th>16</th>\n",
       "      <td>Nicaragua</td>\n",
       "      <td>15</td>\n",
       "      <td>2.708050</td>\n",
       "      <td>NIC</td>\n",
       "    </tr>\n",
       "    <tr>\n",
       "      <th>17</th>\n",
       "      <td>Curacao</td>\n",
       "      <td>15</td>\n",
       "      <td>2.708050</td>\n",
       "      <td>Curacao</td>\n",
       "    </tr>\n",
       "    <tr>\n",
       "      <th>18</th>\n",
       "      <td>V.I.</td>\n",
       "      <td>14</td>\n",
       "      <td>2.639057</td>\n",
       "      <td>NaN</td>\n",
       "    </tr>\n",
       "    <tr>\n",
       "      <th>19</th>\n",
       "      <td>Netherlands</td>\n",
       "      <td>12</td>\n",
       "      <td>2.484907</td>\n",
       "      <td>NaN</td>\n",
       "    </tr>\n",
       "    <tr>\n",
       "      <th>20</th>\n",
       "      <td>Russia</td>\n",
       "      <td>9</td>\n",
       "      <td>2.197225</td>\n",
       "      <td>NaN</td>\n",
       "    </tr>\n",
       "    <tr>\n",
       "      <th>21</th>\n",
       "      <td>Italy</td>\n",
       "      <td>7</td>\n",
       "      <td>1.945910</td>\n",
       "      <td>ITA</td>\n",
       "    </tr>\n",
       "    <tr>\n",
       "      <th>22</th>\n",
       "      <td>France</td>\n",
       "      <td>7</td>\n",
       "      <td>1.945910</td>\n",
       "      <td>FRA</td>\n",
       "    </tr>\n",
       "    <tr>\n",
       "      <th>23</th>\n",
       "      <td>Czech Republic</td>\n",
       "      <td>6</td>\n",
       "      <td>1.791759</td>\n",
       "      <td>NaN</td>\n",
       "    </tr>\n",
       "    <tr>\n",
       "      <th>24</th>\n",
       "      <td>Bahamas</td>\n",
       "      <td>6</td>\n",
       "      <td>1.791759</td>\n",
       "      <td>BHS</td>\n",
       "    </tr>\n",
       "    <tr>\n",
       "      <th>25</th>\n",
       "      <td>Poland</td>\n",
       "      <td>5</td>\n",
       "      <td>1.609438</td>\n",
       "      <td>POL</td>\n",
       "    </tr>\n",
       "    <tr>\n",
       "      <th>26</th>\n",
       "      <td>Brazil</td>\n",
       "      <td>5</td>\n",
       "      <td>1.609438</td>\n",
       "      <td>BRA</td>\n",
       "    </tr>\n",
       "    <tr>\n",
       "      <th>27</th>\n",
       "      <td>Aruba</td>\n",
       "      <td>5</td>\n",
       "      <td>1.609438</td>\n",
       "      <td>ABW</td>\n",
       "    </tr>\n",
       "    <tr>\n",
       "      <th>28</th>\n",
       "      <td>Sweden</td>\n",
       "      <td>4</td>\n",
       "      <td>1.386294</td>\n",
       "      <td>SWE</td>\n",
       "    </tr>\n",
       "    <tr>\n",
       "      <th>29</th>\n",
       "      <td>Spain</td>\n",
       "      <td>4</td>\n",
       "      <td>1.386294</td>\n",
       "      <td>ESP</td>\n",
       "    </tr>\n",
       "    <tr>\n",
       "      <th>30</th>\n",
       "      <td>Jamaica</td>\n",
       "      <td>4</td>\n",
       "      <td>1.386294</td>\n",
       "      <td>JAM</td>\n",
       "    </tr>\n",
       "    <tr>\n",
       "      <th>31</th>\n",
       "      <td>Austria</td>\n",
       "      <td>4</td>\n",
       "      <td>1.386294</td>\n",
       "      <td>AUT</td>\n",
       "    </tr>\n",
       "    <tr>\n",
       "      <th>32</th>\n",
       "      <td>Norway</td>\n",
       "      <td>3</td>\n",
       "      <td>1.098612</td>\n",
       "      <td>NOR</td>\n",
       "    </tr>\n",
       "    <tr>\n",
       "      <th>33</th>\n",
       "      <td>South Africa</td>\n",
       "      <td>2</td>\n",
       "      <td>0.693147</td>\n",
       "      <td>ZAF</td>\n",
       "    </tr>\n",
       "    <tr>\n",
       "      <th>34</th>\n",
       "      <td>Saudi Arabia</td>\n",
       "      <td>2</td>\n",
       "      <td>0.693147</td>\n",
       "      <td>SAU</td>\n",
       "    </tr>\n",
       "    <tr>\n",
       "      <th>35</th>\n",
       "      <td>Honduras</td>\n",
       "      <td>2</td>\n",
       "      <td>0.693147</td>\n",
       "      <td>HND</td>\n",
       "    </tr>\n",
       "    <tr>\n",
       "      <th>36</th>\n",
       "      <td>Guam</td>\n",
       "      <td>2</td>\n",
       "      <td>0.693147</td>\n",
       "      <td>GUM</td>\n",
       "    </tr>\n",
       "    <tr>\n",
       "      <th>37</th>\n",
       "      <td>Viet Nam</td>\n",
       "      <td>1</td>\n",
       "      <td>0.000000</td>\n",
       "      <td>VNM</td>\n",
       "    </tr>\n",
       "    <tr>\n",
       "      <th>38</th>\n",
       "      <td>Switzerland</td>\n",
       "      <td>1</td>\n",
       "      <td>0.000000</td>\n",
       "      <td>CHE</td>\n",
       "    </tr>\n",
       "    <tr>\n",
       "      <th>39</th>\n",
       "      <td>Slovakia</td>\n",
       "      <td>1</td>\n",
       "      <td>0.000000</td>\n",
       "      <td>SVK</td>\n",
       "    </tr>\n",
       "    <tr>\n",
       "      <th>40</th>\n",
       "      <td>Singapore</td>\n",
       "      <td>1</td>\n",
       "      <td>0.000000</td>\n",
       "      <td>SGP</td>\n",
       "    </tr>\n",
       "    <tr>\n",
       "      <th>41</th>\n",
       "      <td>Portugal</td>\n",
       "      <td>1</td>\n",
       "      <td>0.000000</td>\n",
       "      <td>PRT</td>\n",
       "    </tr>\n",
       "    <tr>\n",
       "      <th>42</th>\n",
       "      <td>Philippines</td>\n",
       "      <td>1</td>\n",
       "      <td>0.000000</td>\n",
       "      <td>PHL</td>\n",
       "    </tr>\n",
       "    <tr>\n",
       "      <th>43</th>\n",
       "      <td>Peru</td>\n",
       "      <td>1</td>\n",
       "      <td>0.000000</td>\n",
       "      <td>PER</td>\n",
       "    </tr>\n",
       "    <tr>\n",
       "      <th>44</th>\n",
       "      <td>Lithuania</td>\n",
       "      <td>1</td>\n",
       "      <td>0.000000</td>\n",
       "      <td>LTU</td>\n",
       "    </tr>\n",
       "    <tr>\n",
       "      <th>45</th>\n",
       "      <td>Latvia</td>\n",
       "      <td>1</td>\n",
       "      <td>0.000000</td>\n",
       "      <td>LVA</td>\n",
       "    </tr>\n",
       "    <tr>\n",
       "      <th>46</th>\n",
       "      <td>Indonesia</td>\n",
       "      <td>1</td>\n",
       "      <td>0.000000</td>\n",
       "      <td>IDN</td>\n",
       "    </tr>\n",
       "    <tr>\n",
       "      <th>47</th>\n",
       "      <td>Hong Kong</td>\n",
       "      <td>1</td>\n",
       "      <td>0.000000</td>\n",
       "      <td>HKG</td>\n",
       "    </tr>\n",
       "    <tr>\n",
       "      <th>48</th>\n",
       "      <td>Greece</td>\n",
       "      <td>1</td>\n",
       "      <td>0.000000</td>\n",
       "      <td>GRC</td>\n",
       "    </tr>\n",
       "    <tr>\n",
       "      <th>49</th>\n",
       "      <td>Finland</td>\n",
       "      <td>1</td>\n",
       "      <td>0.000000</td>\n",
       "      <td>FIN</td>\n",
       "    </tr>\n",
       "    <tr>\n",
       "      <th>50</th>\n",
       "      <td>Denmark</td>\n",
       "      <td>1</td>\n",
       "      <td>0.000000</td>\n",
       "      <td>DNK</td>\n",
       "    </tr>\n",
       "    <tr>\n",
       "      <th>51</th>\n",
       "      <td>China</td>\n",
       "      <td>1</td>\n",
       "      <td>0.000000</td>\n",
       "      <td>CHN</td>\n",
       "    </tr>\n",
       "    <tr>\n",
       "      <th>52</th>\n",
       "      <td>Belize</td>\n",
       "      <td>1</td>\n",
       "      <td>0.000000</td>\n",
       "      <td>BLZ</td>\n",
       "    </tr>\n",
       "    <tr>\n",
       "      <th>53</th>\n",
       "      <td>Belgium</td>\n",
       "      <td>1</td>\n",
       "      <td>0.000000</td>\n",
       "      <td>BEL</td>\n",
       "    </tr>\n",
       "    <tr>\n",
       "      <th>54</th>\n",
       "      <td>At Sea</td>\n",
       "      <td>1</td>\n",
       "      <td>0.000000</td>\n",
       "      <td>NaN</td>\n",
       "    </tr>\n",
       "    <tr>\n",
       "      <th>55</th>\n",
       "      <td>American Samoa</td>\n",
       "      <td>1</td>\n",
       "      <td>0.000000</td>\n",
       "      <td>ASM</td>\n",
       "    </tr>\n",
       "    <tr>\n",
       "      <th>56</th>\n",
       "      <td>Afghanistan</td>\n",
       "      <td>1</td>\n",
       "      <td>0.000000</td>\n",
       "      <td>AFG</td>\n",
       "    </tr>\n",
       "  </tbody>\n",
       "</table>\n",
       "</div>"
      ],
      "text/plain": [
       "           Country  Frequency  log_freq      ISO\n",
       "0              USA      17254  9.755799      NaN\n",
       "1             D.R.        761  6.634633      NaN\n",
       "2        Venezuela        408  6.011267      VEN\n",
       "3             P.R.        268  5.590987      NaN\n",
       "4              CAN        255  5.541264      NaN\n",
       "5             Cuba        218  5.384495      CUB\n",
       "6           Mexico        129  4.859812      MEX\n",
       "7            Japan         67  4.204693      JPN\n",
       "8           Panama         63  4.143135      PAN\n",
       "9   United Kingdom         51  3.931826      NaN\n",
       "10         Ireland         50  3.912023      IRL\n",
       "11         Germany         45  3.806662      DEU\n",
       "12       Australia         31  3.433987      AUS\n",
       "13        Colombia         24  3.178054      COL\n",
       "14     South Korea         23  3.135494      NaN\n",
       "15          Taiwan         16  2.772589      TWN\n",
       "16       Nicaragua         15  2.708050      NIC\n",
       "17         Curacao         15  2.708050  Curacao\n",
       "18            V.I.         14  2.639057      NaN\n",
       "19     Netherlands         12  2.484907      NaN\n",
       "20          Russia          9  2.197225      NaN\n",
       "21           Italy          7  1.945910      ITA\n",
       "22          France          7  1.945910      FRA\n",
       "23  Czech Republic          6  1.791759      NaN\n",
       "24         Bahamas          6  1.791759      BHS\n",
       "25          Poland          5  1.609438      POL\n",
       "26          Brazil          5  1.609438      BRA\n",
       "27           Aruba          5  1.609438      ABW\n",
       "28          Sweden          4  1.386294      SWE\n",
       "29           Spain          4  1.386294      ESP\n",
       "30         Jamaica          4  1.386294      JAM\n",
       "31         Austria          4  1.386294      AUT\n",
       "32          Norway          3  1.098612      NOR\n",
       "33    South Africa          2  0.693147      ZAF\n",
       "34    Saudi Arabia          2  0.693147      SAU\n",
       "35        Honduras          2  0.693147      HND\n",
       "36            Guam          2  0.693147      GUM\n",
       "37        Viet Nam          1  0.000000      VNM\n",
       "38     Switzerland          1  0.000000      CHE\n",
       "39        Slovakia          1  0.000000      SVK\n",
       "40       Singapore          1  0.000000      SGP\n",
       "41        Portugal          1  0.000000      PRT\n",
       "42     Philippines          1  0.000000      PHL\n",
       "43            Peru          1  0.000000      PER\n",
       "44       Lithuania          1  0.000000      LTU\n",
       "45          Latvia          1  0.000000      LVA\n",
       "46       Indonesia          1  0.000000      IDN\n",
       "47       Hong Kong          1  0.000000      HKG\n",
       "48          Greece          1  0.000000      GRC\n",
       "49         Finland          1  0.000000      FIN\n",
       "50         Denmark          1  0.000000      DNK\n",
       "51           China          1  0.000000      CHN\n",
       "52          Belize          1  0.000000      BLZ\n",
       "53         Belgium          1  0.000000      BEL\n",
       "54          At Sea          1  0.000000      NaN\n",
       "55  American Samoa          1  0.000000      ASM\n",
       "56     Afghanistan          1  0.000000      AFG"
      ]
     },
     "execution_count": 12,
     "metadata": {},
     "output_type": "execute_result"
    }
   ],
   "source": [
    "df_all_countries = full_df.drop(full_df.tail(1).index)\n",
    "df_all_countries"
   ]
  },
  {
   "cell_type": "code",
   "execution_count": 13,
   "metadata": {},
   "outputs": [],
   "source": [
    "df_all_countries.iloc[0,3]= 'USA'\n",
    "df_all_countries.iloc[1,3]= 'DOM'\n",
    "df_all_countries.iloc[3,3]= 'PRI'\n",
    "df_all_countries.iloc[4,3]= 'CAN'\n",
    "df_all_countries.iloc[9,3]= 'GBR'\n",
    "df_all_countries.iloc[14,3]= 'KOR'\n",
    "df_all_countries.iloc[18,3]= 'VIR'\n",
    "df_all_countries.iloc[19,3]= 'NLD'\n",
    "df_all_countries.iloc[20,3]= 'RUS'\n",
    "df_all_countries.iloc[23,3]= 'CZE'\n"
   ]
  },
  {
   "cell_type": "code",
   "execution_count": 14,
   "metadata": {},
   "outputs": [
    {
     "name": "stdout",
     "output_type": "stream",
     "text": [
      "0\n"
     ]
    }
   ],
   "source": [
    "df_all_countries_greater = df_all_countries[df_all_countries[\"log_freq\"] > 0]\n",
    "print(sum(df_all_countries_greater['ISO'].isna()))"
   ]
  },
  {
   "cell_type": "code",
   "execution_count": 15,
   "metadata": {},
   "outputs": [
    {
     "data": {
      "application/vnd.plotly.v1+json": {
       "config": {
        "plotlyServerURL": "https://plot.ly"
       },
       "data": [
        {
         "autocolorscale": false,
         "colorbar": {
          "title": {
           "text": "Log_Frequency of Players born in Country"
          }
         },
         "colorscale": [
          [
           0,
           "rgb(3, 5, 18)"
          ],
          [
           0.09090909090909091,
           "rgb(25, 25, 51)"
          ],
          [
           0.18181818181818182,
           "rgb(44, 42, 87)"
          ],
          [
           0.2727272727272727,
           "rgb(58, 60, 125)"
          ],
          [
           0.36363636363636365,
           "rgb(62, 83, 160)"
          ],
          [
           0.45454545454545453,
           "rgb(62, 109, 178)"
          ],
          [
           0.5454545454545454,
           "rgb(72, 134, 187)"
          ],
          [
           0.6363636363636364,
           "rgb(89, 159, 196)"
          ],
          [
           0.7272727272727273,
           "rgb(114, 184, 205)"
          ],
          [
           0.8181818181818182,
           "rgb(149, 207, 216)"
          ],
          [
           0.9090909090909091,
           "rgb(192, 229, 232)"
          ],
          [
           1,
           "rgb(234, 252, 253)"
          ]
         ],
         "locations": [
          "USA",
          "DOM",
          "VEN",
          "PRI",
          "CAN",
          "CUB",
          "MEX",
          "JPN",
          "PAN",
          "GBR",
          "IRL",
          "DEU",
          "AUS",
          "COL",
          "KOR",
          "TWN",
          "NIC",
          "Curacao",
          "VIR",
          "NLD",
          "RUS",
          "ITA",
          "FRA",
          "CZE",
          "BHS",
          "POL",
          "BRA",
          "ABW",
          "SWE",
          "ESP",
          "JAM",
          "AUT",
          "NOR",
          "ZAF",
          "SAU",
          "HND",
          "GUM"
         ],
         "marker": {
          "line": {
           "color": "darkgray",
           "width": 0.5
          }
         },
         "reversescale": true,
         "text": [
          "USA",
          "D.R.",
          "Venezuela",
          "P.R.",
          "CAN",
          "Cuba",
          "Mexico",
          "Japan",
          "Panama",
          "United Kingdom",
          "Ireland",
          "Germany",
          "Australia",
          "Colombia",
          "South Korea",
          "Taiwan",
          "Nicaragua",
          "Curacao",
          "V.I.",
          "Netherlands",
          "Russia",
          "Italy",
          "France",
          "Czech Republic",
          "Bahamas",
          "Poland",
          "Brazil",
          "Aruba",
          "Sweden",
          "Spain",
          "Jamaica",
          "Austria",
          "Norway",
          "South Africa",
          "Saudi Arabia",
          "Honduras",
          "Guam"
         ],
         "type": "choropleth",
         "z": [
          9.755799279636523,
          6.634633357861686,
          6.0112671744041615,
          5.5909869805108565,
          5.541263545158426,
          5.384495062789089,
          4.859812404361672,
          4.204692619390966,
          4.143134726391533,
          3.9318256327243257,
          3.912023005428146,
          3.8066624897703196,
          3.4339872044851463,
          3.1780538303479458,
          3.1354942159291497,
          2.772588722239781,
          2.70805020110221,
          2.70805020110221,
          2.6390573296152584,
          2.4849066497880004,
          2.1972245773362196,
          1.9459101490553132,
          1.9459101490553132,
          1.791759469228055,
          1.791759469228055,
          1.6094379124341003,
          1.6094379124341003,
          1.6094379124341003,
          1.3862943611198906,
          1.3862943611198906,
          1.3862943611198906,
          1.3862943611198906,
          1.0986122886681098,
          0.6931471805599453,
          0.6931471805599453,
          0.6931471805599453,
          0.6931471805599453
         ]
        }
       ],
       "layout": {
        "geo": {
         "projection": {
          "type": "equirectangular"
         },
         "showcoastlines": false,
         "showframe": false
        },
        "height": 620,
        "template": {
         "data": {
          "bar": [
           {
            "error_x": {
             "color": "#2a3f5f"
            },
            "error_y": {
             "color": "#2a3f5f"
            },
            "marker": {
             "line": {
              "color": "#E5ECF6",
              "width": 0.5
             },
             "pattern": {
              "fillmode": "overlay",
              "size": 10,
              "solidity": 0.2
             }
            },
            "type": "bar"
           }
          ],
          "barpolar": [
           {
            "marker": {
             "line": {
              "color": "#E5ECF6",
              "width": 0.5
             },
             "pattern": {
              "fillmode": "overlay",
              "size": 10,
              "solidity": 0.2
             }
            },
            "type": "barpolar"
           }
          ],
          "carpet": [
           {
            "aaxis": {
             "endlinecolor": "#2a3f5f",
             "gridcolor": "white",
             "linecolor": "white",
             "minorgridcolor": "white",
             "startlinecolor": "#2a3f5f"
            },
            "baxis": {
             "endlinecolor": "#2a3f5f",
             "gridcolor": "white",
             "linecolor": "white",
             "minorgridcolor": "white",
             "startlinecolor": "#2a3f5f"
            },
            "type": "carpet"
           }
          ],
          "choropleth": [
           {
            "colorbar": {
             "outlinewidth": 0,
             "ticks": ""
            },
            "type": "choropleth"
           }
          ],
          "contour": [
           {
            "colorbar": {
             "outlinewidth": 0,
             "ticks": ""
            },
            "colorscale": [
             [
              0,
              "#0d0887"
             ],
             [
              0.1111111111111111,
              "#46039f"
             ],
             [
              0.2222222222222222,
              "#7201a8"
             ],
             [
              0.3333333333333333,
              "#9c179e"
             ],
             [
              0.4444444444444444,
              "#bd3786"
             ],
             [
              0.5555555555555556,
              "#d8576b"
             ],
             [
              0.6666666666666666,
              "#ed7953"
             ],
             [
              0.7777777777777778,
              "#fb9f3a"
             ],
             [
              0.8888888888888888,
              "#fdca26"
             ],
             [
              1,
              "#f0f921"
             ]
            ],
            "type": "contour"
           }
          ],
          "contourcarpet": [
           {
            "colorbar": {
             "outlinewidth": 0,
             "ticks": ""
            },
            "type": "contourcarpet"
           }
          ],
          "heatmap": [
           {
            "colorbar": {
             "outlinewidth": 0,
             "ticks": ""
            },
            "colorscale": [
             [
              0,
              "#0d0887"
             ],
             [
              0.1111111111111111,
              "#46039f"
             ],
             [
              0.2222222222222222,
              "#7201a8"
             ],
             [
              0.3333333333333333,
              "#9c179e"
             ],
             [
              0.4444444444444444,
              "#bd3786"
             ],
             [
              0.5555555555555556,
              "#d8576b"
             ],
             [
              0.6666666666666666,
              "#ed7953"
             ],
             [
              0.7777777777777778,
              "#fb9f3a"
             ],
             [
              0.8888888888888888,
              "#fdca26"
             ],
             [
              1,
              "#f0f921"
             ]
            ],
            "type": "heatmap"
           }
          ],
          "heatmapgl": [
           {
            "colorbar": {
             "outlinewidth": 0,
             "ticks": ""
            },
            "colorscale": [
             [
              0,
              "#0d0887"
             ],
             [
              0.1111111111111111,
              "#46039f"
             ],
             [
              0.2222222222222222,
              "#7201a8"
             ],
             [
              0.3333333333333333,
              "#9c179e"
             ],
             [
              0.4444444444444444,
              "#bd3786"
             ],
             [
              0.5555555555555556,
              "#d8576b"
             ],
             [
              0.6666666666666666,
              "#ed7953"
             ],
             [
              0.7777777777777778,
              "#fb9f3a"
             ],
             [
              0.8888888888888888,
              "#fdca26"
             ],
             [
              1,
              "#f0f921"
             ]
            ],
            "type": "heatmapgl"
           }
          ],
          "histogram": [
           {
            "marker": {
             "pattern": {
              "fillmode": "overlay",
              "size": 10,
              "solidity": 0.2
             }
            },
            "type": "histogram"
           }
          ],
          "histogram2d": [
           {
            "colorbar": {
             "outlinewidth": 0,
             "ticks": ""
            },
            "colorscale": [
             [
              0,
              "#0d0887"
             ],
             [
              0.1111111111111111,
              "#46039f"
             ],
             [
              0.2222222222222222,
              "#7201a8"
             ],
             [
              0.3333333333333333,
              "#9c179e"
             ],
             [
              0.4444444444444444,
              "#bd3786"
             ],
             [
              0.5555555555555556,
              "#d8576b"
             ],
             [
              0.6666666666666666,
              "#ed7953"
             ],
             [
              0.7777777777777778,
              "#fb9f3a"
             ],
             [
              0.8888888888888888,
              "#fdca26"
             ],
             [
              1,
              "#f0f921"
             ]
            ],
            "type": "histogram2d"
           }
          ],
          "histogram2dcontour": [
           {
            "colorbar": {
             "outlinewidth": 0,
             "ticks": ""
            },
            "colorscale": [
             [
              0,
              "#0d0887"
             ],
             [
              0.1111111111111111,
              "#46039f"
             ],
             [
              0.2222222222222222,
              "#7201a8"
             ],
             [
              0.3333333333333333,
              "#9c179e"
             ],
             [
              0.4444444444444444,
              "#bd3786"
             ],
             [
              0.5555555555555556,
              "#d8576b"
             ],
             [
              0.6666666666666666,
              "#ed7953"
             ],
             [
              0.7777777777777778,
              "#fb9f3a"
             ],
             [
              0.8888888888888888,
              "#fdca26"
             ],
             [
              1,
              "#f0f921"
             ]
            ],
            "type": "histogram2dcontour"
           }
          ],
          "mesh3d": [
           {
            "colorbar": {
             "outlinewidth": 0,
             "ticks": ""
            },
            "type": "mesh3d"
           }
          ],
          "parcoords": [
           {
            "line": {
             "colorbar": {
              "outlinewidth": 0,
              "ticks": ""
             }
            },
            "type": "parcoords"
           }
          ],
          "pie": [
           {
            "automargin": true,
            "type": "pie"
           }
          ],
          "scatter": [
           {
            "fillpattern": {
             "fillmode": "overlay",
             "size": 10,
             "solidity": 0.2
            },
            "type": "scatter"
           }
          ],
          "scatter3d": [
           {
            "line": {
             "colorbar": {
              "outlinewidth": 0,
              "ticks": ""
             }
            },
            "marker": {
             "colorbar": {
              "outlinewidth": 0,
              "ticks": ""
             }
            },
            "type": "scatter3d"
           }
          ],
          "scattercarpet": [
           {
            "marker": {
             "colorbar": {
              "outlinewidth": 0,
              "ticks": ""
             }
            },
            "type": "scattercarpet"
           }
          ],
          "scattergeo": [
           {
            "marker": {
             "colorbar": {
              "outlinewidth": 0,
              "ticks": ""
             }
            },
            "type": "scattergeo"
           }
          ],
          "scattergl": [
           {
            "marker": {
             "colorbar": {
              "outlinewidth": 0,
              "ticks": ""
             }
            },
            "type": "scattergl"
           }
          ],
          "scattermapbox": [
           {
            "marker": {
             "colorbar": {
              "outlinewidth": 0,
              "ticks": ""
             }
            },
            "type": "scattermapbox"
           }
          ],
          "scatterpolar": [
           {
            "marker": {
             "colorbar": {
              "outlinewidth": 0,
              "ticks": ""
             }
            },
            "type": "scatterpolar"
           }
          ],
          "scatterpolargl": [
           {
            "marker": {
             "colorbar": {
              "outlinewidth": 0,
              "ticks": ""
             }
            },
            "type": "scatterpolargl"
           }
          ],
          "scatterternary": [
           {
            "marker": {
             "colorbar": {
              "outlinewidth": 0,
              "ticks": ""
             }
            },
            "type": "scatterternary"
           }
          ],
          "surface": [
           {
            "colorbar": {
             "outlinewidth": 0,
             "ticks": ""
            },
            "colorscale": [
             [
              0,
              "#0d0887"
             ],
             [
              0.1111111111111111,
              "#46039f"
             ],
             [
              0.2222222222222222,
              "#7201a8"
             ],
             [
              0.3333333333333333,
              "#9c179e"
             ],
             [
              0.4444444444444444,
              "#bd3786"
             ],
             [
              0.5555555555555556,
              "#d8576b"
             ],
             [
              0.6666666666666666,
              "#ed7953"
             ],
             [
              0.7777777777777778,
              "#fb9f3a"
             ],
             [
              0.8888888888888888,
              "#fdca26"
             ],
             [
              1,
              "#f0f921"
             ]
            ],
            "type": "surface"
           }
          ],
          "table": [
           {
            "cells": {
             "fill": {
              "color": "#EBF0F8"
             },
             "line": {
              "color": "white"
             }
            },
            "header": {
             "fill": {
              "color": "#C8D4E3"
             },
             "line": {
              "color": "white"
             }
            },
            "type": "table"
           }
          ]
         },
         "layout": {
          "annotationdefaults": {
           "arrowcolor": "#2a3f5f",
           "arrowhead": 0,
           "arrowwidth": 1
          },
          "autotypenumbers": "strict",
          "coloraxis": {
           "colorbar": {
            "outlinewidth": 0,
            "ticks": ""
           }
          },
          "colorscale": {
           "diverging": [
            [
             0,
             "#8e0152"
            ],
            [
             0.1,
             "#c51b7d"
            ],
            [
             0.2,
             "#de77ae"
            ],
            [
             0.3,
             "#f1b6da"
            ],
            [
             0.4,
             "#fde0ef"
            ],
            [
             0.5,
             "#f7f7f7"
            ],
            [
             0.6,
             "#e6f5d0"
            ],
            [
             0.7,
             "#b8e186"
            ],
            [
             0.8,
             "#7fbc41"
            ],
            [
             0.9,
             "#4d9221"
            ],
            [
             1,
             "#276419"
            ]
           ],
           "sequential": [
            [
             0,
             "#0d0887"
            ],
            [
             0.1111111111111111,
             "#46039f"
            ],
            [
             0.2222222222222222,
             "#7201a8"
            ],
            [
             0.3333333333333333,
             "#9c179e"
            ],
            [
             0.4444444444444444,
             "#bd3786"
            ],
            [
             0.5555555555555556,
             "#d8576b"
            ],
            [
             0.6666666666666666,
             "#ed7953"
            ],
            [
             0.7777777777777778,
             "#fb9f3a"
            ],
            [
             0.8888888888888888,
             "#fdca26"
            ],
            [
             1,
             "#f0f921"
            ]
           ],
           "sequentialminus": [
            [
             0,
             "#0d0887"
            ],
            [
             0.1111111111111111,
             "#46039f"
            ],
            [
             0.2222222222222222,
             "#7201a8"
            ],
            [
             0.3333333333333333,
             "#9c179e"
            ],
            [
             0.4444444444444444,
             "#bd3786"
            ],
            [
             0.5555555555555556,
             "#d8576b"
            ],
            [
             0.6666666666666666,
             "#ed7953"
            ],
            [
             0.7777777777777778,
             "#fb9f3a"
            ],
            [
             0.8888888888888888,
             "#fdca26"
            ],
            [
             1,
             "#f0f921"
            ]
           ]
          },
          "colorway": [
           "#636efa",
           "#EF553B",
           "#00cc96",
           "#ab63fa",
           "#FFA15A",
           "#19d3f3",
           "#FF6692",
           "#B6E880",
           "#FF97FF",
           "#FECB52"
          ],
          "font": {
           "color": "#2a3f5f"
          },
          "geo": {
           "bgcolor": "white",
           "lakecolor": "white",
           "landcolor": "#E5ECF6",
           "showlakes": true,
           "showland": true,
           "subunitcolor": "white"
          },
          "hoverlabel": {
           "align": "left"
          },
          "hovermode": "closest",
          "mapbox": {
           "style": "light"
          },
          "paper_bgcolor": "white",
          "plot_bgcolor": "#E5ECF6",
          "polar": {
           "angularaxis": {
            "gridcolor": "white",
            "linecolor": "white",
            "ticks": ""
           },
           "bgcolor": "#E5ECF6",
           "radialaxis": {
            "gridcolor": "white",
            "linecolor": "white",
            "ticks": ""
           }
          },
          "scene": {
           "xaxis": {
            "backgroundcolor": "#E5ECF6",
            "gridcolor": "white",
            "gridwidth": 2,
            "linecolor": "white",
            "showbackground": true,
            "ticks": "",
            "zerolinecolor": "white"
           },
           "yaxis": {
            "backgroundcolor": "#E5ECF6",
            "gridcolor": "white",
            "gridwidth": 2,
            "linecolor": "white",
            "showbackground": true,
            "ticks": "",
            "zerolinecolor": "white"
           },
           "zaxis": {
            "backgroundcolor": "#E5ECF6",
            "gridcolor": "white",
            "gridwidth": 2,
            "linecolor": "white",
            "showbackground": true,
            "ticks": "",
            "zerolinecolor": "white"
           }
          },
          "shapedefaults": {
           "line": {
            "color": "#2a3f5f"
           }
          },
          "ternary": {
           "aaxis": {
            "gridcolor": "white",
            "linecolor": "white",
            "ticks": ""
           },
           "baxis": {
            "gridcolor": "white",
            "linecolor": "white",
            "ticks": ""
           },
           "bgcolor": "#E5ECF6",
           "caxis": {
            "gridcolor": "white",
            "linecolor": "white",
            "ticks": ""
           }
          },
          "title": {
           "x": 0.05
          },
          "xaxis": {
           "automargin": true,
           "gridcolor": "white",
           "linecolor": "white",
           "ticks": "",
           "title": {
            "standoff": 15
           },
           "zerolinecolor": "white",
           "zerolinewidth": 2
          },
          "yaxis": {
           "automargin": true,
           "gridcolor": "white",
           "linecolor": "white",
           "ticks": "",
           "title": {
            "standoff": 15
           },
           "zerolinecolor": "white",
           "zerolinewidth": 2
          }
         }
        },
        "width": 1000
       }
      }
     },
     "metadata": {},
     "output_type": "display_data"
    }
   ],
   "source": [
    "import plotly.graph_objects as go\n",
    "\n",
    "fig = go.Figure(data=go.Choropleth(\n",
    "    locations = df_all_countries_greater['ISO'],\n",
    "    z = df_all_countries_greater['log_freq'],\n",
    "    text = df_all_countries_greater['Country'],\n",
    "    colorscale = 'Ice',\n",
    "    autocolorscale=False,\n",
    "    reversescale=True,\n",
    "    marker_line_color='darkgray',\n",
    "    marker_line_width=0.5,\n",
    "    colorbar_title = 'Log_Frequency of Players born in Country',\n",
    "))\n",
    "\n",
    "fig.update_layout(\n",
    "    width=1000,\n",
    "    height=620,\n",
    "    geo=dict(\n",
    "        showframe=False,\n",
    "        showcoastlines=False,\n",
    "        projection_type='equirectangular'\n",
    "    )\n",
    ")\n",
    "fig.show()"
   ]
  },
  {
   "cell_type": "markdown",
   "metadata": {
    "tags": [
     "exercise"
    ]
   },
   "source": [
    "__Exercise 2__\n",
    "\n",
    "We will use the [lichess](https://lichess.org/api) API to retrieve some information about the current state of chess in the world. In order to answer below questions, make precise and economical requests. You may use:\n",
    "```\n",
    "import requests\n",
    "import json\n",
    "import pandas\n",
    "\n",
    "from datetime import datetime\n",
    "```"
   ]
  },
  {
   "cell_type": "code",
   "execution_count": 16,
   "metadata": {},
   "outputs": [],
   "source": [
    "import requests\n",
    "import json\n",
    "import pandas\n",
    "from datetime import datetime as dt"
   ]
  },
  {
   "cell_type": "markdown",
   "metadata": {
    "tags": [
     "exercise"
    ]
   },
   "source": [
    "__(a)__ What is the real name of the leader of the blitz leaderboard? "
   ]
  },
  {
   "cell_type": "code",
   "execution_count": 17,
   "metadata": {},
   "outputs": [
    {
     "name": "stdout",
     "output_type": "stream",
     "text": [
      "The real name of the top 1 player in blitz chess is Vladislav, Artemiev\n"
     ]
    }
   ],
   "source": [
    "url = 'https://lichess.org/api/player/top/1/blitz'\n",
    "response = requests.get(url)\n",
    "username = response.json()['users'][0]['username']\n",
    "\n",
    "response2 = requests.get(f\"https://lichess.org/api/user/{username}\")\n",
    "first_name = response2.json()['profile']['firstName']\n",
    "last_name = response2.json()['profile']['lastName']\n",
    "\n",
    "print(f\"The real name of the top 1 player in blitz chess is {first_name}, {last_name}\")"
   ]
  },
  {
   "cell_type": "markdown",
   "metadata": {
    "tags": [
     "exercise"
    ]
   },
   "source": [
    "__(b, i)__ Get the username of the last player that played a rapid game against user `athena-pallada`. __(ii)__ In all games against this user, how many times did `athena-pallada` win? _(Provide code that answers the question in case more than just a single game is returned)_"
   ]
  },
  {
   "cell_type": "code",
   "execution_count": 18,
   "metadata": {},
   "outputs": [],
   "source": [
    "#Request the information\n",
    "url = 'https://lichess.org/api/games/user/athena-pallada'\n",
    "response = requests.get(url, params={'max': '1',\n",
    "                                     'perfType':'rapid'},\n",
    "                             headers={\"Accept\":\"application/x-ndjson\"})"
   ]
  },
  {
   "cell_type": "code",
   "execution_count": 19,
   "metadata": {},
   "outputs": [
    {
     "name": "stdout",
     "output_type": "stream",
     "text": [
      "The last player that played a rapid game against user athena-pallada is Bacio129\n"
     ]
    }
   ],
   "source": [
    "#Turn it into json and start to filter until I find opponent\n",
    "game = response.json()\n",
    "opponent = game['players']['black']['user']['name']\n",
    "#print the username\n",
    "print(f\"The last player that played a rapid game against user athena-pallada is {opponent}\")"
   ]
  },
  {
   "cell_type": "code",
   "execution_count": 20,
   "metadata": {},
   "outputs": [],
   "source": [
    "response = requests.get(url, params = {\"vs\": f\"{opponent}\"},\n",
    "                             headers={\"Accept\":\"application/x-ndjson\"})\n",
    "json_data = [json.loads(line) for line in response.iter_lines(decode_unicode=True) if line]\n"
   ]
  },
  {
   "cell_type": "code",
   "execution_count": 21,
   "metadata": {},
   "outputs": [
    {
     "name": "stdout",
     "output_type": "stream",
     "text": [
      "athena-pallada won 2 times against Bacio129\n"
     ]
    }
   ],
   "source": [
    "wins = 0\n",
    "for i in np.arange(2):\n",
    "    winner = json_data[i]['winner']\n",
    "    if json_data[i]['players'][f\"{winner}\"]['user']['name'] == \"athena-pallada\":\n",
    "        wins += 1\n",
    "print(f\"athena-pallada won {wins} times against Bacio129\")"
   ]
  },
  {
   "cell_type": "markdown",
   "metadata": {
    "tags": [
     "exercise"
    ]
   },
   "source": [
    "__(c)__ Consider the top ten players in the bullet leaderboard. __(i)__ Which player has the most bullet games overall? __(ii)__ Which player has played the most bullet games relative to account age in days? __(iii)__ Which player has the worst win-to-loss ratio over all formats?"
   ]
  },
  {
   "cell_type": "code",
   "execution_count": 50,
   "metadata": {},
   "outputs": [
    {
     "name": "stdout",
     "output_type": "stream",
     "text": [
      "The person with the highest number of blitz games in the top 10 leader board is athena-pallada, with 7669 games\n"
     ]
    }
   ],
   "source": [
    "#Create empty dataframe to store data\n",
    "df_top_ten = pd.DataFrame({'UserName':[],'Games':[]})\n",
    "#get top 10 blitz players\n",
    "url = \"https://lichess.org/api/player/top/10/blitz\"\n",
    "response = requests.get(url)\n",
    "response.json()\n",
    "\n",
    "for i in np.arange(10):\n",
    "    username = response.json()['users'][i]['id']\n",
    "    url2 = f\"https://lichess.org/api/user/{username}\"\n",
    "    response2 = requests.get(url2)\n",
    "    account_age = (pd.to_datetime('now') - pd.to_datetime(response2.json()['createdAt'], unit='ms')).days\n",
    "    wins = response2.json()['count']['win']\n",
    "    loss = response2.json()['count']['loss']\n",
    "    draw = response2.json()['count']['draw']\n",
    "    dictionary = pd.Series({'UserName':username, 'Games':response2.json()['perfs']['blitz']['games'], 'Account_Age':account_age,\n",
    "                            'Wins':wins, 'Loss':loss, 'Draws':draw })\n",
    "    df_top_ten = pd.concat([df_top_ten, dictionary.to_frame().T], ignore_index=True)\n",
    "\n",
    "name = df_top_ten.sort_values(by='Games', ascending=False).iloc[0,0]\n",
    "num_games = df_top_ten.sort_values(by='Games', ascending=False).iloc[0,1]\n",
    "print(f\"The person with the highest number of blitz games in the top 10 leader board is {name}, with {num_games} games\")"
   ]
  },
  {
   "cell_type": "code",
   "execution_count": 43,
   "metadata": {},
   "outputs": [
    {
     "name": "stdout",
     "output_type": "stream",
     "text": [
      "The person with the most games relative to their age is toomanymanoevres, with a ratio of 24.780701754385966\n"
     ]
    }
   ],
   "source": [
    "df_top_ten['games/age'] = df_top_ten['Games']/df_top_ten['Account_Age']\n",
    "name = df_top_ten.sort_values(by='games/age', ascending=False).iloc[0,0]\n",
    "ratio = df_top_ten.sort_values(by='games/age', ascending=False).iloc[0,3]\n",
    "print(f\"The person with the most games relative to their age is {name}, with a ratio of {ratio}\")"
   ]
  },
  {
   "cell_type": "code",
   "execution_count": 53,
   "metadata": {},
   "outputs": [
    {
     "name": "stdout",
     "output_type": "stream",
     "text": [
      "The person with the highest win/loss ratio is konevlad, with a ratio of 4.152400835073069\n"
     ]
    }
   ],
   "source": [
    "df_top_ten['win/loss'] = df_top_ten['Wins']/df_top_ten['Loss']\n",
    "name = df_top_ten.sort_values(by='win/loss', ascending=False).iloc[0,0]\n",
    "ratio = df_top_ten.sort_values(by='win/loss', ascending=False).iloc[0,6]\n",
    "print(f\"The person with the highest win/loss ratio is {name}, with a ratio of {ratio}\")"
   ]
  },
  {
   "cell_type": "markdown",
   "metadata": {
    "tags": [
     "exercise"
    ]
   },
   "source": [
    "__(d)__ Get all games from user `manwithavan`. Group them by opening and print the ten most popular. "
   ]
  },
  {
   "cell_type": "code",
   "execution_count": 64,
   "metadata": {
    "tags": [
     "test"
    ]
   },
   "outputs": [],
   "source": [
    "url = 'https://lichess.org/api/games/user/manwithavan'\n",
    "response = requests.get(url, params = {'opening':True}, headers = {\"Accept\":\"application/x-ndjson\"})\n",
    "json_data = [json.loads(line) for line in response.iter_lines(decode_unicode=True) if line]"
   ]
  },
  {
   "cell_type": "code",
   "execution_count": 90,
   "metadata": {},
   "outputs": [],
   "source": [
    "opening_list = []\n",
    "for i in np.arange(len(json_data)):\n",
    "    try:\n",
    "        opening_list.append(json_data[i]['opening']['name'])\n",
    "    except:\n",
    "        pass\n",
    "\n",
    "opening = pd.DataFrame(opening_list, columns=['openings'])"
   ]
  },
  {
   "cell_type": "code",
   "execution_count": 96,
   "metadata": {},
   "outputs": [
    {
     "data": {
      "text/html": [
       "<div>\n",
       "<style scoped>\n",
       "    .dataframe tbody tr th:only-of-type {\n",
       "        vertical-align: middle;\n",
       "    }\n",
       "\n",
       "    .dataframe tbody tr th {\n",
       "        vertical-align: top;\n",
       "    }\n",
       "\n",
       "    .dataframe thead th {\n",
       "        text-align: right;\n",
       "    }\n",
       "</style>\n",
       "<table border=\"1\" class=\"dataframe\">\n",
       "  <thead>\n",
       "    <tr style=\"text-align: right;\">\n",
       "      <th></th>\n",
       "      <th>count</th>\n",
       "    </tr>\n",
       "    <tr>\n",
       "      <th>openings</th>\n",
       "      <th></th>\n",
       "    </tr>\n",
       "  </thead>\n",
       "  <tbody>\n",
       "    <tr>\n",
       "      <th>Nimzo-Larsen Attack: Modern Variation</th>\n",
       "      <td>7</td>\n",
       "    </tr>\n",
       "    <tr>\n",
       "      <th>Van't Kruijs Opening</th>\n",
       "      <td>7</td>\n",
       "    </tr>\n",
       "    <tr>\n",
       "      <th>Mieses Opening</th>\n",
       "      <td>6</td>\n",
       "    </tr>\n",
       "    <tr>\n",
       "      <th>Pirc Defense</th>\n",
       "      <td>6</td>\n",
       "    </tr>\n",
       "    <tr>\n",
       "      <th>Nimzo-Larsen Attack</th>\n",
       "      <td>5</td>\n",
       "    </tr>\n",
       "    <tr>\n",
       "      <th>Zukertort Opening: Kingside Fianchetto</th>\n",
       "      <td>5</td>\n",
       "    </tr>\n",
       "    <tr>\n",
       "      <th>Modern Defense</th>\n",
       "      <td>5</td>\n",
       "    </tr>\n",
       "    <tr>\n",
       "      <th>Queen's Pawn Game</th>\n",
       "      <td>5</td>\n",
       "    </tr>\n",
       "    <tr>\n",
       "      <th>Zukertort Opening: Queenside Fianchetto Variation</th>\n",
       "      <td>5</td>\n",
       "    </tr>\n",
       "    <tr>\n",
       "      <th>Caro-Kann Defense: Breyer Variation</th>\n",
       "      <td>5</td>\n",
       "    </tr>\n",
       "  </tbody>\n",
       "</table>\n",
       "</div>"
      ],
      "text/plain": [
       "                                                   count\n",
       "openings                                                \n",
       "Nimzo-Larsen Attack: Modern Variation                  7\n",
       "Van't Kruijs Opening                                   7\n",
       "Mieses Opening                                         6\n",
       "Pirc Defense                                           6\n",
       "Nimzo-Larsen Attack                                    5\n",
       "Zukertort Opening: Kingside Fianchetto                 5\n",
       "Modern Defense                                         5\n",
       "Queen's Pawn Game                                      5\n",
       "Zukertort Opening: Queenside Fianchetto Variation      5\n",
       "Caro-Kann Defense: Breyer Variation                    5"
      ]
     },
     "execution_count": 96,
     "metadata": {},
     "output_type": "execute_result"
    }
   ],
   "source": [
    "top_openings = pd.DataFrame(opening.value_counts())\n",
    "top_openings.head(10)"
   ]
  },
  {
   "cell_type": "code",
   "execution_count": 99,
   "metadata": {},
   "outputs": [
    {
     "data": {
      "text/plain": [
       "\"King's Indian Defense\""
      ]
     },
     "execution_count": 99,
     "metadata": {},
     "output_type": "execute_result"
    }
   ],
   "source": [
    "json_data[0]['opening']['name']"
   ]
  }
 ],
 "metadata": {
  "celltoolbar": "Tags",
  "kernelspec": {
   "display_name": "Python 3 (ipykernel)",
   "language": "python",
   "name": "python3"
  },
  "language_info": {
   "codemirror_mode": {
    "name": "ipython",
    "version": 3
   },
   "file_extension": ".py",
   "mimetype": "text/x-python",
   "name": "python",
   "nbconvert_exporter": "python",
   "pygments_lexer": "ipython3",
   "version": "3.11.5"
  }
 },
 "nbformat": 4,
 "nbformat_minor": 2
}
